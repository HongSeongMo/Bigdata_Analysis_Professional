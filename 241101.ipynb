{
  "nbformat": 4,
  "nbformat_minor": 0,
  "metadata": {
    "colab": {
      "provenance": [],
      "mount_file_id": "1dDMvC6MwRXqJsTiKnTL08Mq3Y4cjObWx",
      "authorship_tag": "ABX9TyOsjtBPEKOPeuG8kHa89jtz",
      "include_colab_link": true
    },
    "kernelspec": {
      "name": "python3",
      "display_name": "Python 3"
    },
    "language_info": {
      "name": "python"
    }
  },
  "cells": [
    {
      "cell_type": "markdown",
      "metadata": {
        "id": "view-in-github",
        "colab_type": "text"
      },
      "source": [
        "<a href=\"https://colab.research.google.com/github/HongSeongMo/Bigdata_Analysis_Professional/blob/main/241101.ipynb\" target=\"_parent\"><img src=\"https://colab.research.google.com/assets/colab-badge.svg\" alt=\"Open In Colab\"/></a>"
      ]
    },
    {
      "cell_type": "markdown",
      "source": [
        "# 제5과목 데이터 모형 평가"
      ],
      "metadata": {
        "id": "LeSbnlY9MOWB"
      }
    },
    {
      "cell_type": "markdown",
      "source": [
        "제1장 분류 분석 모형 평가"
      ],
      "metadata": {
        "id": "d82CapPPMUF2"
      }
    },
    {
      "cell_type": "code",
      "execution_count": null,
      "metadata": {
        "id": "92z_W6cIMKg7",
        "colab": {
          "base_uri": "https://localhost:8080/",
          "height": 466
        },
        "outputId": "ab177239-b525-4fc1-ab88-05db7ba3c93d"
      },
      "outputs": [
        {
          "output_type": "stream",
          "name": "stdout",
          "text": [
            "Drive already mounted at /content/drive; to attempt to forcibly remount, call drive.mount(\"/content/drive\", force_remount=True).\n"
          ]
        },
        {
          "output_type": "execute_result",
          "data": {
            "text/plain": [
              "Warehouse_block        object\n",
              "Mode_of_Shipment       object\n",
              "Customer_care_calls     int64\n",
              "Customer_rating         int64\n",
              "Cost_of_the_Product     int64\n",
              "Prior_purchases         int64\n",
              "Product_importance     object\n",
              "Gender                 object\n",
              "Discount_offered        int64\n",
              "Weight_in_gms           int64\n",
              "Reached.on.Time_Y.N     int64\n",
              "dtype: object"
            ],
            "text/html": [
              "<div>\n",
              "<style scoped>\n",
              "    .dataframe tbody tr th:only-of-type {\n",
              "        vertical-align: middle;\n",
              "    }\n",
              "\n",
              "    .dataframe tbody tr th {\n",
              "        vertical-align: top;\n",
              "    }\n",
              "\n",
              "    .dataframe thead th {\n",
              "        text-align: right;\n",
              "    }\n",
              "</style>\n",
              "<table border=\"1\" class=\"dataframe\">\n",
              "  <thead>\n",
              "    <tr style=\"text-align: right;\">\n",
              "      <th></th>\n",
              "      <th>0</th>\n",
              "    </tr>\n",
              "  </thead>\n",
              "  <tbody>\n",
              "    <tr>\n",
              "      <th>Warehouse_block</th>\n",
              "      <td>object</td>\n",
              "    </tr>\n",
              "    <tr>\n",
              "      <th>Mode_of_Shipment</th>\n",
              "      <td>object</td>\n",
              "    </tr>\n",
              "    <tr>\n",
              "      <th>Customer_care_calls</th>\n",
              "      <td>int64</td>\n",
              "    </tr>\n",
              "    <tr>\n",
              "      <th>Customer_rating</th>\n",
              "      <td>int64</td>\n",
              "    </tr>\n",
              "    <tr>\n",
              "      <th>Cost_of_the_Product</th>\n",
              "      <td>int64</td>\n",
              "    </tr>\n",
              "    <tr>\n",
              "      <th>Prior_purchases</th>\n",
              "      <td>int64</td>\n",
              "    </tr>\n",
              "    <tr>\n",
              "      <th>Product_importance</th>\n",
              "      <td>object</td>\n",
              "    </tr>\n",
              "    <tr>\n",
              "      <th>Gender</th>\n",
              "      <td>object</td>\n",
              "    </tr>\n",
              "    <tr>\n",
              "      <th>Discount_offered</th>\n",
              "      <td>int64</td>\n",
              "    </tr>\n",
              "    <tr>\n",
              "      <th>Weight_in_gms</th>\n",
              "      <td>int64</td>\n",
              "    </tr>\n",
              "    <tr>\n",
              "      <th>Reached.on.Time_Y.N</th>\n",
              "      <td>int64</td>\n",
              "    </tr>\n",
              "  </tbody>\n",
              "</table>\n",
              "</div><br><label><b>dtype:</b> object</label>"
            ]
          },
          "metadata": {},
          "execution_count": 3
        }
      ],
      "source": [
        "from google.colab import drive\n",
        "drive.mount('/content/drive')\n",
        "import pandas as pd\n",
        "import numpy as np\n",
        "from sklearn.preprocessing import StandardScaler\n",
        "from sklearn.model_selection import train_test_split\n",
        "from sklearn.metrics import classification_report, confusion_matrix\n",
        "from sklearn.metrics import accuracy_score\n",
        "from sklearn.linear_model import LinearRegression\n",
        "from sklearn.feature_selection import SelectKBest, f_regression\n",
        "data = pd.read_csv('/content/drive/MyDrive/Colab Notebooks/work/train_commerce.csv', index_col=0)\n",
        "df = data.dropna()\n",
        "df.dtypes"
      ]
    },
    {
      "cell_type": "code",
      "source": [
        "df['Warehouse_block'] = df['Warehouse_block'].map({'A': 0, 'B': 1, 'C': 2, 'D': 3, 'F': 4})\n",
        "df['Mode_of_Shipment'] = df['Mode_of_Shipment'].map({'Flight': 0, 'Road': 1, 'Ship': 2})\n",
        "df['Product_importance'] = df['Product_importance'].map({'low': 0, 'medium': 1, 'high': 2})\n",
        "df['Gender'] = df['Gender'].map({'F': 0, 'M': 1})\n",
        "df['Reached.on.Time_Y.N'] = df['Reached.on.Time_Y.N'].astype('category')\n",
        "x = df.drop('Reached.on.Time_Y.N', axis='columns').to_numpy()\n",
        "y = df['Reached.on.Time_Y.N'].to_numpy()\n",
        "model = LinearRegression()\n",
        "model.fit(x, y)\n",
        "coefImportance = np.abs(model.coef_)\n",
        "sortedFeature = np.argsort(coefImportance)[::-1]\n",
        "print(sortedFeature)"
      ],
      "metadata": {
        "colab": {
          "base_uri": "https://localhost:8080/"
        },
        "id": "Uy-YfQ2uD3m7",
        "outputId": "6ae102d3-de64-441d-a641-73eaccdc0f3c"
      },
      "execution_count": null,
      "outputs": [
        {
          "output_type": "stream",
          "name": "stdout",
          "text": [
            "[2 6 5 8 7 3 1 0 4 9]\n"
          ]
        }
      ]
    },
    {
      "cell_type": "code",
      "source": [
        "from google.colab import drive\n",
        "drive.mount('/content/drive')\n",
        "import pandas as pd\n",
        "import numpy as np\n",
        "from sklearn.preprocessing import StandardScaler\n",
        "from sklearn.model_selection import train_test_split\n",
        "from sklearn.linear_model import LogisticRegression\n",
        "\n",
        "data = pd.read_csv('/content/drive/MyDrive/Colab Notebooks/work/train_commerce.csv', index_col=0)\n",
        "df = data.dropna()\n",
        "df.dtypes"
      ],
      "metadata": {
        "colab": {
          "base_uri": "https://localhost:8080/",
          "height": 466
        },
        "id": "RNqya7GTGSbh",
        "outputId": "b249cea3-ac9b-4a07-aad4-db11f66ca06b"
      },
      "execution_count": null,
      "outputs": [
        {
          "output_type": "stream",
          "name": "stdout",
          "text": [
            "Drive already mounted at /content/drive; to attempt to forcibly remount, call drive.mount(\"/content/drive\", force_remount=True).\n"
          ]
        },
        {
          "output_type": "execute_result",
          "data": {
            "text/plain": [
              "Warehouse_block        object\n",
              "Mode_of_Shipment       object\n",
              "Customer_care_calls     int64\n",
              "Customer_rating         int64\n",
              "Cost_of_the_Product     int64\n",
              "Prior_purchases         int64\n",
              "Product_importance     object\n",
              "Gender                 object\n",
              "Discount_offered        int64\n",
              "Weight_in_gms           int64\n",
              "Reached.on.Time_Y.N     int64\n",
              "dtype: object"
            ],
            "text/html": [
              "<div>\n",
              "<style scoped>\n",
              "    .dataframe tbody tr th:only-of-type {\n",
              "        vertical-align: middle;\n",
              "    }\n",
              "\n",
              "    .dataframe tbody tr th {\n",
              "        vertical-align: top;\n",
              "    }\n",
              "\n",
              "    .dataframe thead th {\n",
              "        text-align: right;\n",
              "    }\n",
              "</style>\n",
              "<table border=\"1\" class=\"dataframe\">\n",
              "  <thead>\n",
              "    <tr style=\"text-align: right;\">\n",
              "      <th></th>\n",
              "      <th>0</th>\n",
              "    </tr>\n",
              "  </thead>\n",
              "  <tbody>\n",
              "    <tr>\n",
              "      <th>Warehouse_block</th>\n",
              "      <td>object</td>\n",
              "    </tr>\n",
              "    <tr>\n",
              "      <th>Mode_of_Shipment</th>\n",
              "      <td>object</td>\n",
              "    </tr>\n",
              "    <tr>\n",
              "      <th>Customer_care_calls</th>\n",
              "      <td>int64</td>\n",
              "    </tr>\n",
              "    <tr>\n",
              "      <th>Customer_rating</th>\n",
              "      <td>int64</td>\n",
              "    </tr>\n",
              "    <tr>\n",
              "      <th>Cost_of_the_Product</th>\n",
              "      <td>int64</td>\n",
              "    </tr>\n",
              "    <tr>\n",
              "      <th>Prior_purchases</th>\n",
              "      <td>int64</td>\n",
              "    </tr>\n",
              "    <tr>\n",
              "      <th>Product_importance</th>\n",
              "      <td>object</td>\n",
              "    </tr>\n",
              "    <tr>\n",
              "      <th>Gender</th>\n",
              "      <td>object</td>\n",
              "    </tr>\n",
              "    <tr>\n",
              "      <th>Discount_offered</th>\n",
              "      <td>int64</td>\n",
              "    </tr>\n",
              "    <tr>\n",
              "      <th>Weight_in_gms</th>\n",
              "      <td>int64</td>\n",
              "    </tr>\n",
              "    <tr>\n",
              "      <th>Reached.on.Time_Y.N</th>\n",
              "      <td>int64</td>\n",
              "    </tr>\n",
              "  </tbody>\n",
              "</table>\n",
              "</div><br><label><b>dtype:</b> object</label>"
            ]
          },
          "metadata": {},
          "execution_count": 9
        }
      ]
    },
    {
      "cell_type": "code",
      "source": [
        "df['Product_importance'] = df['Product_importance'].map({'low': 0, 'medium': 1, 'high': 2})\n",
        "df['Reached.on.Time_Y.N'] = df['Reached.on.Time_Y.N'].astype('category')\n",
        "x = df[['Customer_care_calls','Product_importance','Prior_purchases']].to_numpy()\n",
        "y = df['Reached.on.Time_Y.N'].to_numpy()\n",
        "trainx, testx, trainy, testy = train_test_split(x, y, test_size=0.3, random_state=55)\n",
        "scaler = StandardScaler()\n",
        "scaler.fit(trainx)\n",
        "trainx_scale = scaler.transform(trainx)\n",
        "testx_scale = scaler.transform(testx)\n",
        "model = LogisticRegression(C=20, max_iter=1000)\n",
        "model.fit(trainx_scale, trainy)\n",
        "prediction = model.predict(testx_scale)\n",
        "result = pd.DataFrame(np.array([testy, prediction]).T, columns=['Actual', 'Predict'])\n",
        "print(result.head(10))"
      ],
      "metadata": {
        "colab": {
          "base_uri": "https://localhost:8080/"
        },
        "id": "FRwb94r9OKPd",
        "outputId": "33673e61-79b7-487b-c86b-19a307a9a983"
      },
      "execution_count": null,
      "outputs": [
        {
          "output_type": "stream",
          "name": "stdout",
          "text": [
            "   Actual  Predict\n",
            "0       0        1\n",
            "1       0        1\n",
            "2       1        1\n",
            "3       0        1\n",
            "4       1        1\n",
            "5       0        1\n",
            "6       0        1\n",
            "7       1        1\n",
            "8       0        1\n",
            "9       1        1\n"
          ]
        }
      ]
    },
    {
      "cell_type": "code",
      "source": [
        "print(model.score(trainx_scale, trainy)*100)\n",
        "print(model.score(testx_scale, testy)*100)\n",
        "print(model.classes_)\n",
        "print(model.coef_)\n",
        "print(model.intercept_)"
      ],
      "metadata": {
        "colab": {
          "base_uri": "https://localhost:8080/"
        },
        "id": "AbdXPhw5Qn7v",
        "outputId": "33caa7e5-052e-4c12-d30d-b6138ce16fe0"
      },
      "execution_count": null,
      "outputs": [
        {
          "output_type": "stream",
          "name": "stdout",
          "text": [
            "59.05961813222497\n",
            "59.93939393939394\n",
            "[0 1]\n",
            "[[-0.12554142  0.04525028 -0.082258  ]]\n",
            "[0.38195347]\n"
          ]
        }
      ]
    },
    {
      "cell_type": "code",
      "source": [
        "from google.colab import drive\n",
        "drive.mount('/content/drive')\n",
        "import pandas as pd\n",
        "import numpy as np\n",
        "from sklearn.preprocessing import StandardScaler\n",
        "from sklearn.model_selection import train_test_split\n",
        "from sklearn.metrics import classification_report, confusion_matrix\n",
        "from sklearn.metrics import accuracy_score\n",
        "from sklearn.metrics import roc_curve, auc\n",
        "from sklearn.metrics import f1_score\n",
        "from sklearn.metrics import precision_score\n",
        "from sklearn.metrics import recall_score\n",
        "import matplotlib.pyplot as plt\n",
        "from sklearn.linear_model import LogisticRegression\n",
        "data = pd.read_csv('/content/drive/MyDrive/Colab Notebooks/work/train_commerce.csv', index_col=0)\n",
        "df = data.dropna()\n",
        "df.dtypes"
      ],
      "metadata": {
        "colab": {
          "base_uri": "https://localhost:8080/",
          "height": 466
        },
        "id": "1O-3u6MKR0eW",
        "outputId": "ac48aa0b-f622-491f-e287-19d1b1efc1b4"
      },
      "execution_count": null,
      "outputs": [
        {
          "output_type": "stream",
          "name": "stdout",
          "text": [
            "Drive already mounted at /content/drive; to attempt to forcibly remount, call drive.mount(\"/content/drive\", force_remount=True).\n"
          ]
        },
        {
          "output_type": "execute_result",
          "data": {
            "text/plain": [
              "Warehouse_block        object\n",
              "Mode_of_Shipment       object\n",
              "Customer_care_calls     int64\n",
              "Customer_rating         int64\n",
              "Cost_of_the_Product     int64\n",
              "Prior_purchases         int64\n",
              "Product_importance     object\n",
              "Gender                 object\n",
              "Discount_offered        int64\n",
              "Weight_in_gms           int64\n",
              "Reached.on.Time_Y.N     int64\n",
              "dtype: object"
            ],
            "text/html": [
              "<div>\n",
              "<style scoped>\n",
              "    .dataframe tbody tr th:only-of-type {\n",
              "        vertical-align: middle;\n",
              "    }\n",
              "\n",
              "    .dataframe tbody tr th {\n",
              "        vertical-align: top;\n",
              "    }\n",
              "\n",
              "    .dataframe thead th {\n",
              "        text-align: right;\n",
              "    }\n",
              "</style>\n",
              "<table border=\"1\" class=\"dataframe\">\n",
              "  <thead>\n",
              "    <tr style=\"text-align: right;\">\n",
              "      <th></th>\n",
              "      <th>0</th>\n",
              "    </tr>\n",
              "  </thead>\n",
              "  <tbody>\n",
              "    <tr>\n",
              "      <th>Warehouse_block</th>\n",
              "      <td>object</td>\n",
              "    </tr>\n",
              "    <tr>\n",
              "      <th>Mode_of_Shipment</th>\n",
              "      <td>object</td>\n",
              "    </tr>\n",
              "    <tr>\n",
              "      <th>Customer_care_calls</th>\n",
              "      <td>int64</td>\n",
              "    </tr>\n",
              "    <tr>\n",
              "      <th>Customer_rating</th>\n",
              "      <td>int64</td>\n",
              "    </tr>\n",
              "    <tr>\n",
              "      <th>Cost_of_the_Product</th>\n",
              "      <td>int64</td>\n",
              "    </tr>\n",
              "    <tr>\n",
              "      <th>Prior_purchases</th>\n",
              "      <td>int64</td>\n",
              "    </tr>\n",
              "    <tr>\n",
              "      <th>Product_importance</th>\n",
              "      <td>object</td>\n",
              "    </tr>\n",
              "    <tr>\n",
              "      <th>Gender</th>\n",
              "      <td>object</td>\n",
              "    </tr>\n",
              "    <tr>\n",
              "      <th>Discount_offered</th>\n",
              "      <td>int64</td>\n",
              "    </tr>\n",
              "    <tr>\n",
              "      <th>Weight_in_gms</th>\n",
              "      <td>int64</td>\n",
              "    </tr>\n",
              "    <tr>\n",
              "      <th>Reached.on.Time_Y.N</th>\n",
              "      <td>int64</td>\n",
              "    </tr>\n",
              "  </tbody>\n",
              "</table>\n",
              "</div><br><label><b>dtype:</b> object</label>"
            ]
          },
          "metadata": {},
          "execution_count": 27
        }
      ]
    },
    {
      "cell_type": "code",
      "source": [
        "df['Product_importance'] = df['Product_importance'].map({'low': 0, 'medium': 1, 'high': 2})\n",
        "df['Reached.on.Time_Y.N'] = df['Reached.on.Time_Y.N'].astype('category')\n",
        "x = df[['Customer_care_calls','Product_importance','Prior_purchases']].to_numpy()\n",
        "y = df['Reached.on.Time_Y.N'].to_numpy()\n",
        "trainx, testx, trainy, testy = train_test_split(x, y, test_size=0.3, random_state=55)\n",
        "scaler = StandardScaler()\n",
        "scaler.fit(trainx)\n",
        "trainx_scale = scaler.transform(trainx)\n",
        "testx_scale = scaler.transform(testx)\n",
        "model = LogisticRegression(C=20, max_iter=1000)\n",
        "model.fit(trainx_scale, trainy)\n",
        "prediction = model.predict(testx_scale)\n",
        "result = pd.DataFrame(np.array([testy, prediction]).T, columns=['Actual', 'Predict'])\n",
        "print(result.head(10))\n",
        "print(classification_report(result['Actual'], result['Predict']))\n",
        "print(f1_score(result['Actual'], result['Predict']))\n",
        "print(accuracy_score(result['Actual'], result['Predict']))\n",
        "print(precision_score(result['Actual'], result['Predict']))\n",
        "print(recall_score(result['Actual'], result['Predict']))\n",
        "fpr, tpr, thresholds = roc_curve(result['Actual'], result['Predict'])\n",
        "plt.plot(fpr, tpr)\n",
        "plt.show()\n",
        "print(auc(fpr, tpr))"
      ],
      "metadata": {
        "colab": {
          "base_uri": "https://localhost:8080/",
          "height": 864
        },
        "id": "bj3OdM6UzD-B",
        "outputId": "0543a72b-9d08-4d00-a33d-d0494544bce7"
      },
      "execution_count": null,
      "outputs": [
        {
          "output_type": "stream",
          "name": "stdout",
          "text": [
            "   Actual  Predict\n",
            "0       0        1\n",
            "1       0        1\n",
            "2       1        1\n",
            "3       0        1\n",
            "4       1        1\n",
            "5       0        1\n",
            "6       0        1\n",
            "7       1        1\n",
            "8       0        1\n",
            "9       1        1\n",
            "              precision    recall  f1-score   support\n",
            "\n",
            "           0       0.39      0.02      0.04      1308\n",
            "           1       0.60      0.98      0.75      1992\n",
            "\n",
            "    accuracy                           0.60      3300\n",
            "   macro avg       0.50      0.50      0.39      3300\n",
            "weighted avg       0.52      0.60      0.47      3300\n",
            "\n",
            "0.7471308339709258\n",
            "0.5993939393939394\n",
            "0.603522867737948\n",
            "0.9804216867469879\n"
          ]
        },
        {
          "output_type": "display_data",
          "data": {
            "text/plain": [
              "<Figure size 640x480 with 1 Axes>"
            ],
            "image/png": "[encoded data removed]"
          },
          "metadata": {}
        },
        {
          "output_type": "stream",
          "name": "stdout",
          "text": [
            "0.49976741829704135\n"
          ]
        }
      ]
    },
    {
      "cell_type": "code",
      "source": [
        "import pandas as pd\n",
        "import numpy as np\n",
        "from sklearn.preprocessing import StandardScaler\n",
        "from sklearn.model_selection import train_test_split\n",
        "from sklearn.metrics import classification_report, confusion_matrix\n",
        "from sklearn.metrics import accuracy_score\n",
        "import matplotlib.pyplot as plt\n",
        "from sklearn.svm import SVC\n",
        "data = pd.read_csv('/content/drive/MyDrive/Colab Notebooks/work/train_commerce.csv', index_col=0)\n",
        "df = data.dropna()\n",
        "print(df.dtypes)\n",
        "df['Product_importance'] = df['Product_importance'].map({'low': 0, 'medium': 1, 'high': 2})\n",
        "df['Reached.on.Time_Y.N'] = df['Reached.on.Time_Y.N'].astype('category')\n",
        "x = df[['Customer_care_calls','Product_importance','Prior_purchases']].to_numpy()\n",
        "y = df['Reached.on.Time_Y.N'].to_numpy()\n",
        "trainx, testx, trainy, testy = train_test_split(x, y, test_size=0.3, random_state=55)\n",
        "scaler = StandardScaler()\n",
        "scaler.fit(trainx)\n",
        "xtrainscaled = scaler.transform(trainx)\n",
        "xtestscaled = scaler.transform(testx)\n",
        "model = SVC(kernel='rbf', C=10, gamma=0.1, random_state=42)\n",
        "model.fit(xtrainscaled, trainy)\n",
        "ypred = model.predict(xtestscaled)\n",
        "accuracy = accuracy_score(testy, ypred)\n",
        "print(accuracy)\n",
        "print(classification_report(testy, ypred))\n",
        "resultsvm = pd.DataFrame(np.zeros((3300, 2)), columns=['Actual', 'Predict'])\n",
        "resultsvm['Actual'] = pd.DataFrame(testy)\n",
        "resultsvm['Predict'] = pd.DataFrame(ypred)\n",
        "print(resultsvm.head())"
      ],
      "metadata": {
        "colab": {
          "base_uri": "https://localhost:8080/"
        },
        "id": "MeOvJPiZzz5p",
        "outputId": "b15617b9-b9c1-474e-fb3d-7c710ed0f530"
      },
      "execution_count": null,
      "outputs": [
        {
          "output_type": "stream",
          "name": "stdout",
          "text": [
            "Warehouse_block        object\n",
            "Mode_of_Shipment       object\n",
            "Customer_care_calls     int64\n",
            "Customer_rating         int64\n",
            "Cost_of_the_Product     int64\n",
            "Prior_purchases         int64\n",
            "Product_importance     object\n",
            "Gender                 object\n",
            "Discount_offered        int64\n",
            "Weight_in_gms           int64\n",
            "Reached.on.Time_Y.N     int64\n",
            "dtype: object\n",
            "0.6051515151515151\n",
            "              precision    recall  f1-score   support\n",
            "\n",
            "           0       0.59      0.01      0.03      1308\n",
            "           1       0.61      0.99      0.75      1992\n",
            "\n",
            "    accuracy                           0.61      3300\n",
            "   macro avg       0.60      0.50      0.39      3300\n",
            "weighted avg       0.60      0.61      0.46      3300\n",
            "\n",
            "   Actual  Predict\n",
            "0       0        1\n",
            "1       0        1\n",
            "2       1        1\n",
            "3       0        1\n",
            "4       1        1\n"
          ]
        }
      ]
    },
    {
      "cell_type": "code",
      "source": [
        "import pandas as pd\n",
        "import numpy as np\n",
        "from sklearn.preprocessing import StandardScaler\n",
        "from sklearn.model_selection import train_test_split\n",
        "from sklearn.metrics import classification_report, confusion_matrix\n",
        "from sklearn.metrics import accuracy_score\n",
        "from sklearn.metrics import roc_curve, auc\n",
        "from sklearn.metrics import f1_score\n",
        "from sklearn.metrics import accuracy_score\n",
        "from sklearn.metrics import precision_score\n",
        "from sklearn.metrics import recall_score\n",
        "import matplotlib.pyplot as plt\n",
        "from sklearn.svm import SVC\n",
        "data = pd.read_csv('/content/drive/MyDrive/Colab Notebooks/work/train_commerce.csv', index_col=0)\n",
        "df = data.dropna()\n",
        "df['Product_importance'] = df['Product_importance'].map({'low': 0, 'medium': 1, 'high': 2})\n",
        "df['Reached.on.Time_Y.N'] = df['Reached.on.Time_Y.N'].astype('category')\n",
        "x = df[['Customer_care_calls','Product_importance','Prior_purchases']].to_numpy()\n",
        "y = df['Reached.on.Time_Y.N'].to_numpy()\n",
        "trainx, testx, trainy, testy = train_test_split(x, y, test_size=0.3, random_state=55)\n",
        "scaler = StandardScaler()\n",
        "scaler.fit(trainx)\n",
        "xtrainscaled = scaler.transform(trainx)\n",
        "xtestscaled = scaler.transform(testx)\n",
        "model = SVC(kernel='rbf', C=10, gamma=0.1, random_state=42)\n",
        "model.fit(xtrainscaled, trainy)\n",
        "ypred = model.predict(xtestscaled)\n",
        "print(f1_score(testy, ypred))\n",
        "print(accuracy_score(testy, ypred))\n",
        "print(precision_score(testy, ypred))\n",
        "print(recall_score(testy, ypred))\n",
        "fpr, tpr, thresholds = roc_curve(testy, ypred)\n",
        "plt.plot(fpr, tpr)\n",
        "plt.show()\n",
        "print(auc(fpr, tpr))"
      ],
      "metadata": {
        "colab": {
          "base_uri": "https://localhost:8080/",
          "height": 517
        },
        "id": "6zzP0R5NUfaX",
        "outputId": "2761a709-48e5-4922-b675-53e066bc6259"
      },
      "execution_count": null,
      "outputs": [
        {
          "output_type": "stream",
          "name": "stdout",
          "text": [
            "0.7524225726771803\n",
            "0.6051515151515151\n",
            "0.6053194741669214\n",
            "0.9939759036144579\n"
          ]
        },
        {
          "output_type": "display_data",
          "data": {
            "text/plain": [
              "<Figure size 640x480 with 1 Axes>"
            ],
            "image/png": "[encoded data removed]"
          },
          "metadata": {}
        },
        {
          "output_type": "stream",
          "name": "stdout",
          "text": [
            "0.5034864227552412\n"
          ]
        }
      ]
    },
    {
      "cell_type": "code",
      "source": [
        "import pandas as pd\n",
        "import numpy as np\n",
        "from sklearn.preprocessing import StandardScaler\n",
        "from sklearn.model_selection import train_test_split\n",
        "from sklearn.model_selection import GridSearchCV\n",
        "from sklearn.svm import SVC\n",
        "data = pd.read_csv('/content/drive/MyDrive/Colab Notebooks/work/train_commerce.csv', index_col=0)\n",
        "df = data.dropna()\n",
        "df['Product_importance'] = df['Product_importance'].map({'low': 0, 'medium': 1, 'high': 2})\n",
        "df['Reached.on.Time_Y.N'] = df['Reached.on.Time_Y.N'].astype('category')\n",
        "x = df[['Customer_care_calls','Product_importance','Prior_purchases']].to_numpy()\n",
        "y = df['Reached.on.Time_Y.N'].to_numpy()\n",
        "trainx, testx, trainy, testy = train_test_split(x, y, test_size=0.3, random_state=55)\n",
        "scaler = StandardScaler()\n",
        "scaler.fit(trainx)\n",
        "xtrainscaled = scaler.transform(trainx)\n",
        "xtestscaled = scaler.transform(testx)\n",
        "model = SVC()\n",
        "param_grid = {\n",
        "    'kernel':['rbf'],\n",
        "    'C':[0.1, 10],\n",
        "    'gamma':[0.1, 0.01]\n",
        "}\n",
        "grid_search = GridSearchCV(model, param_grid, cv=5, n_jobs=-1)\n",
        "grid_search.fit(xtrainscaled, trainy)\n",
        "print(grid_search.best_params_)\n",
        "bestmodel = grid_search.best_estimator_\n",
        "accuracy = bestmodel.score(xtestscaled, testy)\n",
        "print(accuracy)"
      ],
      "metadata": {
        "colab": {
          "base_uri": "https://localhost:8080/"
        },
        "id": "RASAuE_wbUtF",
        "outputId": "d14b7a3c-bc94-472b-c5ce-c8b2c95fa111"
      },
      "execution_count": null,
      "outputs": [
        {
          "output_type": "stream",
          "name": "stdout",
          "text": [
            "{'C': 0.1, 'gamma': 0.1, 'kernel': 'rbf'}\n",
            "0.6036363636363636\n"
          ]
        }
      ]
    },
    {
      "cell_type": "code",
      "source": [
        "import pandas as pd\n",
        "import numpy as np\n",
        "from sklearn.preprocessing import StandardScaler\n",
        "from sklearn.model_selection import train_test_split\n",
        "from sklearn.metrics import classification_report, confusion_matrix\n",
        "from sklearn.metrics import accuracy_score\n",
        "from sklearn.metrics import roc_curve, auc\n",
        "import matplotlib.pyplot as plt\n",
        "from sklearn.svm import SVC\n",
        "import warnings\n",
        "warnings.filterwarnings('ignore')\n",
        "data = pd.read_csv('/content/drive/MyDrive/Colab Notebooks/work/train_commerce.csv', index_col=0)\n",
        "df = data.dropna()\n",
        "df['Product_importance'] = df['Product_importance'].map({'low': 0, 'medium': 1, 'high': 2})\n",
        "df['Reached.on.Time_Y.N'] = df['Reached.on.Time_Y.N'].astype('category')\n",
        "x = df[['Customer_care_calls','Product_importance','Prior_purchases']].to_numpy()\n",
        "y = df['Reached.on.Time_Y.N'].to_numpy()\n",
        "trainx, testx, trainy, testy = train_test_split(x, y, test_size=0.3, random_state=55)\n",
        "scaler = StandardScaler()\n",
        "scaler.fit(trainx)\n",
        "xtrainscaled = scaler.transform(trainx)\n",
        "xtestscaled = scaler.transform(testx)\n",
        "model = SVC(kernel='rbf', C=0.1, gamma=0.1, random_state=42)\n",
        "model.fit(xtrainscaled, trainy)\n",
        "ypred = model.predict(xtestscaled)\n",
        "print(classification_report(testy, ypred))\n",
        "print(accuracy_score(testy, ypred))\n",
        "fpr, tpr, thresholds = roc_curve(testy, ypred)\n",
        "plt.plot(fpr, tpr)\n",
        "plt.show()\n",
        "print(auc(fpr, tpr))"
      ],
      "metadata": {
        "colab": {
          "base_uri": "https://localhost:8080/",
          "height": 621
        },
        "id": "ErL2zMI2eTeh",
        "outputId": "f660454b-0da7-4043-b8b6-b3f8c1b82452"
      },
      "execution_count": null,
      "outputs": [
        {
          "output_type": "stream",
          "name": "stdout",
          "text": [
            "              precision    recall  f1-score   support\n",
            "\n",
            "           0       0.00      0.00      0.00      1308\n",
            "           1       0.60      1.00      0.75      1992\n",
            "\n",
            "    accuracy                           0.60      3300\n",
            "   macro avg       0.30      0.50      0.38      3300\n",
            "weighted avg       0.36      0.60      0.45      3300\n",
            "\n",
            "0.6036363636363636\n"
          ]
        },
        {
          "output_type": "display_data",
          "data": {
            "text/plain": [
              "<Figure size 640x480 with 1 Axes>"
            ],
            "image/png": "[encoded data removed]"
          },
          "metadata": {}
        },
        {
          "output_type": "stream",
          "name": "stdout",
          "text": [
            "0.5\n"
          ]
        }
      ]
    },
    {
      "cell_type": "code",
      "source": [
        "import pandas as pd\n",
        "from sklearn.model_selection import train_test_split\n",
        "from sklearn.naive_bayes import CategoricalNB\n",
        "data = pd.read_csv('/content/drive/MyDrive/Colab Notebooks/work/train_commerce.csv', index_col=0)\n",
        "df = data.dropna()\n",
        "print(df.dtypes)\n",
        "df['Product_importance'] = df['Product_importance'].map({'low': 0, 'medium': 1, 'high': 2})\n",
        "df['Reached.on.Time_Y.N'] = df['Reached.on.Time_Y.N'].astype('category')\n",
        "x = df[['Customer_care_calls','Product_importance','Prior_purchases']].to_numpy()\n",
        "y = df['Reached.on.Time_Y.N'].to_numpy()\n",
        "trainx, testx, trainy, testy = train_test_split(x, y, test_size=0.3, random_state=55)\n",
        "model = CategoricalNB(alpha=0.8).fit(trainx, trainy)\n",
        "predictions = model.predict(testx)\n",
        "print(predictions[:10])\n",
        "print(model.get_params())\n",
        "print(model.score(trainx, trainy))"
      ],
      "metadata": {
        "colab": {
          "base_uri": "https://localhost:8080/"
        },
        "id": "dr8d_ouWfq8X",
        "outputId": "bcaac2bd-88bd-4990-e554-30cbd2f3704d"
      },
      "execution_count": null,
      "outputs": [
        {
          "output_type": "stream",
          "name": "stdout",
          "text": [
            "Warehouse_block        object\n",
            "Mode_of_Shipment       object\n",
            "Customer_care_calls     int64\n",
            "Customer_rating         int64\n",
            "Cost_of_the_Product     int64\n",
            "Prior_purchases         int64\n",
            "Product_importance     object\n",
            "Gender                 object\n",
            "Discount_offered        int64\n",
            "Weight_in_gms           int64\n",
            "Reached.on.Time_Y.N     int64\n",
            "dtype: object\n",
            "[1 1 0 1 1 1 1 1 1 1]\n",
            "{'alpha': 0.8, 'class_prior': None, 'fit_prior': True, 'force_alpha': True, 'min_categories': None}\n",
            "0.5996882712040524\n"
          ]
        }
      ]
    },
    {
      "cell_type": "code",
      "source": [
        "import pandas as pd\n",
        "from sklearn.naive_bayes import CategoricalNB\n",
        "from sklearn.model_selection import train_test_split\n",
        "from sklearn.metrics import classification_report, confusion_matrix\n",
        "from sklearn.metrics import roc_curve, auc\n",
        "from sklearn.metrics import f1_score\n",
        "from sklearn.metrics import accuracy_score\n",
        "from sklearn.metrics import precision_score\n",
        "from sklearn.metrics import recall_score\n",
        "import matplotlib.pyplot as plt\n",
        "data = pd.read_csv('/content/drive/MyDrive/Colab Notebooks/work/train_commerce.csv', index_col=0)\n",
        "df = data.dropna()\n",
        "print(df.dtypes)\n",
        "df['Product_importance'] = df['Product_importance'].map({'low': 0, 'medium': 1, 'high': 2})\n",
        "df['Reached.on.Time_Y.N'] = df['Reached.on.Time_Y.N'].astype('category')\n",
        "x = df[['Customer_care_calls','Product_importance','Prior_purchases']].to_numpy()\n",
        "y = df['Reached.on.Time_Y.N'].to_numpy()\n",
        "trainx, testx, trainy, testy = train_test_split(x, y, test_size=0.3, random_state=42)\n",
        "model = CategoricalNB(alpha=0.8).fit(trainx, trainy)\n",
        "predictions = model.predict(testx)\n",
        "print(predictions[:10])\n",
        "print(model.get_params())\n",
        "print(model.score(testx, testy))\n",
        "conf = confusion_matrix(testy, predictions)\n",
        "print(conf)\n",
        "print(classification_report(testy, predictions))\n",
        "print(f1_score(testy, predictions))\n",
        "print(accuracy_score(testy, predictions))\n",
        "print(precision_score(testy, predictions))\n",
        "print(recall_score(testy, predictions))\n",
        "fpr, tpr, thresholds = roc_curve(testy, predictions)\n",
        "plt.plot(fpr, tpr)\n",
        "plt.show()\n",
        "print(auc(fpr, tpr))"
      ],
      "metadata": {
        "colab": {
          "base_uri": "https://localhost:8080/",
          "height": 968
        },
        "id": "OPNDcVM-oT4p",
        "outputId": "c5a8e4c2-d9b1-4046-a262-0a00a10c1f74"
      },
      "execution_count": null,
      "outputs": [
        {
          "output_type": "stream",
          "name": "stdout",
          "text": [
            "Warehouse_block        object\n",
            "Mode_of_Shipment       object\n",
            "Customer_care_calls     int64\n",
            "Customer_rating         int64\n",
            "Cost_of_the_Product     int64\n",
            "Prior_purchases         int64\n",
            "Product_importance     object\n",
            "Gender                 object\n",
            "Discount_offered        int64\n",
            "Weight_in_gms           int64\n",
            "Reached.on.Time_Y.N     int64\n",
            "dtype: object\n",
            "[1 1 1 0 1 1 1 1 1 1]\n",
            "{'alpha': 0.8, 'class_prior': None, 'fit_prior': True, 'force_alpha': True, 'min_categories': None}\n",
            "0.5893939393939394\n",
            "[[ 262 1050]\n",
            " [ 305 1683]]\n",
            "              precision    recall  f1-score   support\n",
            "\n",
            "           0       0.46      0.20      0.28      1312\n",
            "           1       0.62      0.85      0.71      1988\n",
            "\n",
            "    accuracy                           0.59      3300\n",
            "   macro avg       0.54      0.52      0.50      3300\n",
            "weighted avg       0.55      0.59      0.54      3300\n",
            "\n",
            "0.7129845371743275\n",
            "0.5893939393939394\n",
            "0.6158068057080132\n",
            "0.846579476861167\n"
          ]
        },
        {
          "output_type": "display_data",
          "data": {
            "text/plain": [
              "<Figure size 640x480 with 1 Axes>"
            ],
            "image/png": "[encoded data removed]"
          },
          "metadata": {}
        },
        {
          "output_type": "stream",
          "name": "stdout",
          "text": [
            "0.5231372994061932\n"
          ]
        }
      ]
    },
    {
      "cell_type": "code",
      "source": [
        "import pandas as pd\n",
        "from sklearn.model_selection import train_test_split\n",
        "import numpy as np\n",
        "from sklearn.metrics import classification_report, confusion_matrix\n",
        "from sklearn.metrics import accuracy_score\n",
        "from sklearn.ensemble import RandomForestClassifier\n",
        "data = pd.read_csv('/content/drive/MyDrive/Colab Notebooks/work/train_commerce.csv', index_col=0)\n",
        "df = data.dropna()\n",
        "df['Product_importance'] = df['Product_importance'].map({'low': 0, 'medium': 1, 'high': 2})\n",
        "df['Reached.on.Time_Y.N'] = df['Reached.on.Time_Y.N'].astype('category')\n",
        "x = df[['Customer_care_calls','Product_importance','Prior_purchases']].to_numpy()\n",
        "y = df['Reached.on.Time_Y.N'].to_numpy()\n",
        "trainx, testx, trainy, testy = train_test_split(x, y, test_size=0.3, random_state=55)\n",
        "model = RandomForestClassifier(n_estimators=100, random_state=42)\n",
        "model.fit(trainx, trainy)\n",
        "predictions = model.predict(testx)\n",
        "print(predictions[:10])\n",
        "print('Random Forest 분류 모형 성능(정확도): ', end='');print(accuracy_score(testy, predictions))\n",
        "print('$$$Confusion Matrix, 혼동행렬$$$')\n",
        "conf = confusion_matrix(testy, predictions)\n",
        "print(conf)\n",
        "print(classification_report(testy, predictions));print(conf)\n",
        "print('***분류 분석 모형 성능평가 지표***')\n",
        "print(classification_report(testy, predictions))\n",
        "print('!!! 특성 중요도 !!!')\n",
        "print(model.feature_importances_)"
      ],
      "metadata": {
        "id": "yeF4yaNiq17W",
        "colab": {
          "base_uri": "https://localhost:8080/"
        },
        "outputId": "07f24f79-e4b9-48b0-f7a9-20a7a7b2c375"
      },
      "execution_count": 48,
      "outputs": [
        {
          "output_type": "stream",
          "name": "stdout",
          "text": [
            "[1 1 0 1 1 1 1 1 1 1]\n",
            "Random Forest 분류 모형 성능(정확도): 0.6006060606060606\n",
            "$$$Confusion Matrix, 혼동행렬$$$\n",
            "[[ 265 1043]\n",
            " [ 275 1717]]\n",
            "              precision    recall  f1-score   support\n",
            "\n",
            "           0       0.49      0.20      0.29      1308\n",
            "           1       0.62      0.86      0.72      1992\n",
            "\n",
            "    accuracy                           0.60      3300\n",
            "   macro avg       0.56      0.53      0.50      3300\n",
            "weighted avg       0.57      0.60      0.55      3300\n",
            "\n",
            "[[ 265 1043]\n",
            " [ 275 1717]]\n",
            "***분류 분석 모형 성능평가 지표***\n",
            "              precision    recall  f1-score   support\n",
            "\n",
            "           0       0.49      0.20      0.29      1308\n",
            "           1       0.62      0.86      0.72      1992\n",
            "\n",
            "    accuracy                           0.60      3300\n",
            "   macro avg       0.56      0.53      0.50      3300\n",
            "weighted avg       0.57      0.60      0.55      3300\n",
            "\n",
            "!!! 특성 중요도 !!!\n",
            "[0.32619056 0.13236329 0.54144614]\n"
          ]
        }
      ]
    },
    {
      "cell_type": "code",
      "source": [
        "import pandas as pd\n",
        "from sklearn.model_selection import train_test_split\n",
        "import numpy as np\n",
        "from sklearn.metrics import classification_report, confusion_matrix\n",
        "from sklearn.metrics import accuracy_score\n",
        "from sklearn.ensemble import GradientBoostingClassifier\n",
        "data = pd.read_csv('/content/drive/MyDrive/Colab Notebooks/work/train_commerce.csv', index_col=0)\n",
        "df = data.dropna()\n",
        "df['Product_importance'] = df['Product_importance'].map({'low': 0, 'medium': 1, 'high': 2})\n",
        "df['Reached.on.Time_Y.N'] = df['Reached.on.Time_Y.N'].astype('category')\n",
        "x = df[['Customer_care_calls','Product_importance','Prior_purchases']].to_numpy()\n",
        "y = df['Reached.on.Time_Y.N'].to_numpy()\n",
        "trainx, testx, trainy, testy = train_test_split(x, y, test_size=0.3, random_state=55)\n",
        "model = GradientBoostingClassifier(n_estimators=500, learning_rate=0.2, random_state=42)\n",
        "model.fit(trainx, trainy)\n",
        "predictions = model.predict(testx)\n",
        "print(predictions[:10])\n",
        "print('ExtraTreesClassifier 정확도(Bootstrap 샘플 미사용): ', end='');print(accuracy_score(testy, predictions))\n",
        "print('$$$Confusion Matrix, 혼동행렬$$$')\n",
        "conf = confusion_matrix(testy, predictions)\n",
        "print(conf)\n",
        "print(classification_report(testy, predictions))\n",
        "print('!!! 특성 중요도 !!!')\n",
        "print(model.feature_importances_)"
      ],
      "metadata": {
        "colab": {
          "base_uri": "https://localhost:8080/"
        },
        "id": "fBCBegCU_ZjU",
        "outputId": "53074b2e-c769-417d-8d47-d5d0efe2e3d5"
      },
      "execution_count": 49,
      "outputs": [
        {
          "output_type": "stream",
          "name": "stdout",
          "text": [
            "[1 1 0 1 1 1 1 1 1 1]\n",
            "ExtraTreesClassifier 정확도(Bootstrap 샘플 미사용): 0.5990909090909091\n",
            "$$$Confusion Matrix, 혼동행렬$$$\n",
            "[[ 250 1058]\n",
            " [ 265 1727]]\n",
            "              precision    recall  f1-score   support\n",
            "\n",
            "           0       0.49      0.19      0.27      1308\n",
            "           1       0.62      0.87      0.72      1992\n",
            "\n",
            "    accuracy                           0.60      3300\n",
            "   macro avg       0.55      0.53      0.50      3300\n",
            "weighted avg       0.57      0.60      0.55      3300\n",
            "\n",
            "!!! 특성 중요도 !!!\n",
            "[0.24205835 0.17436094 0.58358071]\n"
          ]
        }
      ]
    },
    {
      "cell_type": "code",
      "source": [
        "import pandas as pd\n",
        "from sklearn.model_selection import train_test_split\n",
        "import numpy as np\n",
        "from sklearn.metrics import classification_report, confusion_matrix\n",
        "from sklearn.metrics import accuracy_score\n",
        "from sklearn.model_selection import cross_validate\n",
        "import matplotlib.pyplot as plt\n",
        "from sklearn.tree import plot_tree\n",
        "from sklearn.tree import DecisionTreeClassifier\n",
        "import warnings\n",
        "warnings.filterwarnings('ignore')\n",
        "data = pd.read_csv('/content/drive/MyDrive/Colab Notebooks/work/train_commerce.csv', index_col=0)\n",
        "df = data.dropna()\n",
        "df['Product_importance'] = df['Product_importance'].map({'low': 0, 'medium': 1, 'high': 2})\n",
        "df['Reached.on.Time_Y.N'] = df['Reached.on.Time_Y.N'].astype('category')\n",
        "x = df[['Customer_care_calls','Product_importance','Prior_purchases']].to_numpy()\n",
        "y = df['Reached.on.Time_Y.N'].to_numpy()\n",
        "trainx, testx, trainy, testy = train_test_split(x, y, test_size=0.3, random_state=42)\n",
        "model = DecisionTreeClassifier(max_depth=2, random_state=42)\n",
        "scores = cross_validate(model, x, y, cv=5, return_train_score=True)\n",
        "model.fit(x,y)\n",
        "predictions = model.predict(x)\n",
        "print(predictions[:10])\n",
        "print('DecisionTree 분류기(결정트리 알고리즘) 정확도: ', end='');print(accuracy_score(y, predictions))\n",
        "print('$$$Confusion Matrix, 혼동행렬$$$')\n",
        "conf = confusion_matrix(y, predictions)\n",
        "print(conf)\n",
        "print('***분류 분석 모형 성능평가 지표')\n",
        "print(classification_report(y, predictions))\n",
        "print('!!! 특성 중요도 !!!')\n",
        "print(model.feature_importances_)\n",
        "plt.figure(figsize=(10,8))\n",
        "plot_tree(model, feature_names=['Customer_care_calls','Product_importance','Prior_purchases'], filled=True)\n",
        "plt.show()"
      ],
      "metadata": {
        "colab": {
          "base_uri": "https://localhost:8080/",
          "height": 948
        },
        "id": "sgsn5FlmE-LM",
        "outputId": "7a48eb70-b19e-412a-c67d-3632c995956d"
      },
      "execution_count": 54,
      "outputs": [
        {
          "output_type": "stream",
          "name": "stdout",
          "text": [
            "[1 1 1 1 1 1 1 1 1 1]\n",
            "DecisionTree 분류기(결정트리 알고리즘) 정확도: 0.5966906082371125\n",
            "$$$Confusion Matrix, 혼동행렬$$$\n",
            "[[   0 4436]\n",
            " [   0 6563]]\n",
            "***분류 분석 모형 성능평가 지표\n",
            "              precision    recall  f1-score   support\n",
            "\n",
            "           0       0.00      0.00      0.00      4436\n",
            "           1       0.60      1.00      0.75      6563\n",
            "\n",
            "    accuracy                           0.60     10999\n",
            "   macro avg       0.30      0.50      0.37     10999\n",
            "weighted avg       0.36      0.60      0.45     10999\n",
            "\n",
            "!!! 특성 중요도 !!!\n",
            "[0.17628003 0.         0.82371997]\n"
          ]
        },
        {
          "output_type": "display_data",
          "data": {
            "text/plain": [
              "<Figure size 1000x800 with 1 Axes>"
            ],
            "image/png": "[encoded data removed]"
          },
          "metadata": {}
        }
      ]
    },
    {
      "cell_type": "code",
      "source": [],
      "metadata": {
        "id": "PFABfJ9XOWqC"
      },
      "execution_count": null,
      "outputs": []
    }
  ]
}