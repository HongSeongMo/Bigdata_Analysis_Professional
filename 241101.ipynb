{
  "nbformat": 4,
  "nbformat_minor": 0,
  "metadata": {
    "colab": {
      "provenance": [],
      "mount_file_id": "1dDMvC6MwRXqJsTiKnTL08Mq3Y4cjObWx",
      "authorship_tag": "ABX9TyMUjcipvq05nEve6GcnFpRA",
      "include_colab_link": true
    },
    "kernelspec": {
      "name": "python3",
      "display_name": "Python 3"
    },
    "language_info": {
      "name": "python"
    }
  },
  "cells": [
    {
      "cell_type": "markdown",
      "metadata": {
        "id": "view-in-github",
        "colab_type": "text"
      },
      "source": [
        "<a href=\"https://colab.research.google.com/github/HongSeongMo/Bigdata_Analysis_Professional/blob/main/241101.ipynb\" target=\"_parent\"><img src=\"https://colab.research.google.com/assets/colab-badge.svg\" alt=\"Open In Colab\"/></a>"
      ]
    },
    {
      "cell_type": "markdown",
      "source": [
        "# 제5과목 데이터 모형 평가"
      ],
      "metadata": {
        "id": "LeSbnlY9MOWB"
      }
    },
    {
      "cell_type": "markdown",
      "source": [
        "제1장 분류 분석 모형 평가"
      ],
      "metadata": {
        "id": "d82CapPPMUF2"
      }
    },
    {
      "cell_type": "code",
      "execution_count": 3,
      "metadata": {
        "id": "92z_W6cIMKg7",
        "colab": {
          "base_uri": "https://localhost:8080/",
          "height": 466
        },
        "outputId": "ab177239-b525-4fc1-ab88-05db7ba3c93d"
      },
      "outputs": [
        {
          "output_type": "stream",
          "name": "stdout",
          "text": [
            "Drive already mounted at /content/drive; to attempt to forcibly remount, call drive.mount(\"/content/drive\", force_remount=True).\n"
          ]
        },
        {
          "output_type": "execute_result",
          "data": {
            "text/plain": [
              "Warehouse_block        object\n",
              "Mode_of_Shipment       object\n",
              "Customer_care_calls     int64\n",
              "Customer_rating         int64\n",
              "Cost_of_the_Product     int64\n",
              "Prior_purchases         int64\n",
              "Product_importance     object\n",
              "Gender                 object\n",
              "Discount_offered        int64\n",
              "Weight_in_gms           int64\n",
              "Reached.on.Time_Y.N     int64\n",
              "dtype: object"
            ],
            "text/html": [
              "<div>\n",
              "<style scoped>\n",
              "    .dataframe tbody tr th:only-of-type {\n",
              "        vertical-align: middle;\n",
              "    }\n",
              "\n",
              "    .dataframe tbody tr th {\n",
              "        vertical-align: top;\n",
              "    }\n",
              "\n",
              "    .dataframe thead th {\n",
              "        text-align: right;\n",
              "    }\n",
              "</style>\n",
              "<table border=\"1\" class=\"dataframe\">\n",
              "  <thead>\n",
              "    <tr style=\"text-align: right;\">\n",
              "      <th></th>\n",
              "      <th>0</th>\n",
              "    </tr>\n",
              "  </thead>\n",
              "  <tbody>\n",
              "    <tr>\n",
              "      <th>Warehouse_block</th>\n",
              "      <td>object</td>\n",
              "    </tr>\n",
              "    <tr>\n",
              "      <th>Mode_of_Shipment</th>\n",
              "      <td>object</td>\n",
              "    </tr>\n",
              "    <tr>\n",
              "      <th>Customer_care_calls</th>\n",
              "      <td>int64</td>\n",
              "    </tr>\n",
              "    <tr>\n",
              "      <th>Customer_rating</th>\n",
              "      <td>int64</td>\n",
              "    </tr>\n",
              "    <tr>\n",
              "      <th>Cost_of_the_Product</th>\n",
              "      <td>int64</td>\n",
              "    </tr>\n",
              "    <tr>\n",
              "      <th>Prior_purchases</th>\n",
              "      <td>int64</td>\n",
              "    </tr>\n",
              "    <tr>\n",
              "      <th>Product_importance</th>\n",
              "      <td>object</td>\n",
              "    </tr>\n",
              "    <tr>\n",
              "      <th>Gender</th>\n",
              "      <td>object</td>\n",
              "    </tr>\n",
              "    <tr>\n",
              "      <th>Discount_offered</th>\n",
              "      <td>int64</td>\n",
              "    </tr>\n",
              "    <tr>\n",
              "      <th>Weight_in_gms</th>\n",
              "      <td>int64</td>\n",
              "    </tr>\n",
              "    <tr>\n",
              "      <th>Reached.on.Time_Y.N</th>\n",
              "      <td>int64</td>\n",
              "    </tr>\n",
              "  </tbody>\n",
              "</table>\n",
              "</div><br><label><b>dtype:</b> object</label>"
            ]
          },
          "metadata": {},
          "execution_count": 3
        }
      ],
      "source": [
        "from google.colab import drive\n",
        "drive.mount('/content/drive')\n",
        "import pandas as pd\n",
        "import numpy as np\n",
        "from sklearn.preprocessing import StandardScaler\n",
        "from sklearn.model_selection import train_test_split\n",
        "from sklearn.metrics import classification_report, confusion_matrix\n",
        "from sklearn.metrics import accuracy_score\n",
        "from sklearn.linear_model import LinearRegression\n",
        "from sklearn.feature_selection import SelectKBest, f_regression\n",
        "data = pd.read_csv('/content/drive/MyDrive/Colab Notebooks/work/train_commerce.csv', index_col=0)\n",
        "df = data.dropna()\n",
        "df.dtypes"
      ]
    },
    {
      "cell_type": "code",
      "source": [
        "df['Warehouse_block'] = df['Warehouse_block'].map({'A': 0, 'B': 1, 'C': 2, 'D': 3, 'F': 4})\n",
        "df['Mode_of_Shipment'] = df['Mode_of_Shipment'].map({'Flight': 0, 'Road': 1, 'Ship': 2})\n",
        "df['Product_importance'] = df['Product_importance'].map({'low': 0, 'medium': 1, 'high': 2})\n",
        "df['Gender'] = df['Gender'].map({'F': 0, 'M': 1})\n",
        "df['Reached.on.Time_Y.N'] = df['Reached.on.Time_Y.N'].astype('category')\n",
        "x = df.drop('Reached.on.Time_Y.N', axis='columns').to_numpy()\n",
        "y = df['Reached.on.Time_Y.N'].to_numpy()\n",
        "model = LinearRegression()\n",
        "model.fit(x, y)\n",
        "coefImportance = np.abs(model.coef_)\n",
        "sortedFeature = np.argsort(coefImportance)[::-1]\n",
        "print(sortedFeature)"
      ],
      "metadata": {
        "colab": {
          "base_uri": "https://localhost:8080/"
        },
        "id": "Uy-YfQ2uD3m7",
        "outputId": "6ae102d3-de64-441d-a641-73eaccdc0f3c"
      },
      "execution_count": 4,
      "outputs": [
        {
          "output_type": "stream",
          "name": "stdout",
          "text": [
            "[2 6 5 8 7 3 1 0 4 9]\n"
          ]
        }
      ]
    },
    {
      "cell_type": "code",
      "source": [
        "from google.colab import drive\n",
        "drive.mount('/content/drive')\n",
        "import pandas as pd\n",
        "import numpy as np\n",
        "from sklearn.preprocessing import StandardScaler\n",
        "from sklearn.model_selection import train_test_split\n",
        "from sklearn.linear_model import LogisticRegression\n",
        "\n",
        "data = pd.read_csv('/content/drive/MyDrive/Colab Notebooks/work/train_commerce.csv', index_col=0)\n",
        "df = data.dropna()\n",
        "df.dtypes"
      ],
      "metadata": {
        "colab": {
          "base_uri": "https://localhost:8080/",
          "height": 466
        },
        "id": "RNqya7GTGSbh",
        "outputId": "b249cea3-ac9b-4a07-aad4-db11f66ca06b"
      },
      "execution_count": 9,
      "outputs": [
        {
          "output_type": "stream",
          "name": "stdout",
          "text": [
            "Drive already mounted at /content/drive; to attempt to forcibly remount, call drive.mount(\"/content/drive\", force_remount=True).\n"
          ]
        },
        {
          "output_type": "execute_result",
          "data": {
            "text/plain": [
              "Warehouse_block        object\n",
              "Mode_of_Shipment       object\n",
              "Customer_care_calls     int64\n",
              "Customer_rating         int64\n",
              "Cost_of_the_Product     int64\n",
              "Prior_purchases         int64\n",
              "Product_importance     object\n",
              "Gender                 object\n",
              "Discount_offered        int64\n",
              "Weight_in_gms           int64\n",
              "Reached.on.Time_Y.N     int64\n",
              "dtype: object"
            ],
            "text/html": [
              "<div>\n",
              "<style scoped>\n",
              "    .dataframe tbody tr th:only-of-type {\n",
              "        vertical-align: middle;\n",
              "    }\n",
              "\n",
              "    .dataframe tbody tr th {\n",
              "        vertical-align: top;\n",
              "    }\n",
              "\n",
              "    .dataframe thead th {\n",
              "        text-align: right;\n",
              "    }\n",
              "</style>\n",
              "<table border=\"1\" class=\"dataframe\">\n",
              "  <thead>\n",
              "    <tr style=\"text-align: right;\">\n",
              "      <th></th>\n",
              "      <th>0</th>\n",
              "    </tr>\n",
              "  </thead>\n",
              "  <tbody>\n",
              "    <tr>\n",
              "      <th>Warehouse_block</th>\n",
              "      <td>object</td>\n",
              "    </tr>\n",
              "    <tr>\n",
              "      <th>Mode_of_Shipment</th>\n",
              "      <td>object</td>\n",
              "    </tr>\n",
              "    <tr>\n",
              "      <th>Customer_care_calls</th>\n",
              "      <td>int64</td>\n",
              "    </tr>\n",
              "    <tr>\n",
              "      <th>Customer_rating</th>\n",
              "      <td>int64</td>\n",
              "    </tr>\n",
              "    <tr>\n",
              "      <th>Cost_of_the_Product</th>\n",
              "      <td>int64</td>\n",
              "    </tr>\n",
              "    <tr>\n",
              "      <th>Prior_purchases</th>\n",
              "      <td>int64</td>\n",
              "    </tr>\n",
              "    <tr>\n",
              "      <th>Product_importance</th>\n",
              "      <td>object</td>\n",
              "    </tr>\n",
              "    <tr>\n",
              "      <th>Gender</th>\n",
              "      <td>object</td>\n",
              "    </tr>\n",
              "    <tr>\n",
              "      <th>Discount_offered</th>\n",
              "      <td>int64</td>\n",
              "    </tr>\n",
              "    <tr>\n",
              "      <th>Weight_in_gms</th>\n",
              "      <td>int64</td>\n",
              "    </tr>\n",
              "    <tr>\n",
              "      <th>Reached.on.Time_Y.N</th>\n",
              "      <td>int64</td>\n",
              "    </tr>\n",
              "  </tbody>\n",
              "</table>\n",
              "</div><br><label><b>dtype:</b> object</label>"
            ]
          },
          "metadata": {},
          "execution_count": 9
        }
      ]
    },
    {
      "cell_type": "code",
      "source": [
        "df['Product_importance'] = df['Product_importance'].map({'low': 0, 'medium': 1, 'high': 2})\n",
        "df['Reached.on.Time_Y.N'] = df['Reached.on.Time_Y.N'].astype('category')\n",
        "x = df[['Customer_care_calls','Product_importance','Prior_purchases']].to_numpy()\n",
        "y = df['Reached.on.Time_Y.N'].to_numpy()\n",
        "trainx, testx, trainy, testy = train_test_split(x, y, test_size=0.3, random_state=55)\n",
        "scaler = StandardScaler()\n",
        "scaler.fit(trainx)\n",
        "trainx_scale = scaler.transform(trainx)\n",
        "testx_scale = scaler.transform(testx)\n",
        "model = LogisticRegression(C=20, max_iter=1000)\n",
        "model.fit(trainx_scale, trainy)\n",
        "prediction = model.predict(testx_scale)\n",
        "result = pd.DataFrame(np.array([testy, prediction]).T, columns=['Actual', 'Predict'])\n",
        "print(result.head(10))"
      ],
      "metadata": {
        "colab": {
          "base_uri": "https://localhost:8080/"
        },
        "id": "FRwb94r9OKPd",
        "outputId": "33673e61-79b7-487b-c86b-19a307a9a983"
      },
      "execution_count": 10,
      "outputs": [
        {
          "output_type": "stream",
          "name": "stdout",
          "text": [
            "   Actual  Predict\n",
            "0       0        1\n",
            "1       0        1\n",
            "2       1        1\n",
            "3       0        1\n",
            "4       1        1\n",
            "5       0        1\n",
            "6       0        1\n",
            "7       1        1\n",
            "8       0        1\n",
            "9       1        1\n"
          ]
        }
      ]
    },
    {
      "cell_type": "code",
      "source": [
        "print(model.score(trainx_scale, trainy)*100)\n",
        "print(model.score(testx_scale, testy)*100)\n",
        "print(model.classes_)\n",
        "print(model.coef_)\n",
        "print(model.intercept_)"
      ],
      "metadata": {
        "colab": {
          "base_uri": "https://localhost:8080/"
        },
        "id": "AbdXPhw5Qn7v",
        "outputId": "33caa7e5-052e-4c12-d30d-b6138ce16fe0"
      },
      "execution_count": 11,
      "outputs": [
        {
          "output_type": "stream",
          "name": "stdout",
          "text": [
            "59.05961813222497\n",
            "59.93939393939394\n",
            "[0 1]\n",
            "[[-0.12554142  0.04525028 -0.082258  ]]\n",
            "[0.38195347]\n"
          ]
        }
      ]
    },
    {
      "cell_type": "code",
      "source": [
        "from google.colab import drive\n",
        "drive.mount('/content/drive')\n",
        "import pandas as pd\n",
        "import numpy as np\n",
        "from sklearn.preprocessing import StandardScaler\n",
        "from sklearn.model_selection import train_test_split\n",
        "from sklearn.metrics import classification_report, confusion_matrix\n",
        "from sklearn.metrics import accuracy_score\n",
        "from sklearn.metrics import roc_curve, auc\n",
        "from sklearn.metrics import f1_score\n",
        "from sklearn.metrics import precision_score\n",
        "from sklearn.metrics import recall_score\n",
        "import matplotlib.pyplot as plt\n",
        "from sklearn.linear_model import LogisticRegression\n",
        "data = pd.read_csv('/content/drive/MyDrive/Colab Notebooks/work/train_commerce.csv', index_col=0)\n",
        "df = data.dropna()\n",
        "df.dtypes"
      ],
      "metadata": {
        "colab": {
          "base_uri": "https://localhost:8080/",
          "height": 466
        },
        "id": "1O-3u6MKR0eW",
        "outputId": "ac48aa0b-f622-491f-e287-19d1b1efc1b4"
      },
      "execution_count": 27,
      "outputs": [
        {
          "output_type": "stream",
          "name": "stdout",
          "text": [
            "Drive already mounted at /content/drive; to attempt to forcibly remount, call drive.mount(\"/content/drive\", force_remount=True).\n"
          ]
        },
        {
          "output_type": "execute_result",
          "data": {
            "text/plain": [
              "Warehouse_block        object\n",
              "Mode_of_Shipment       object\n",
              "Customer_care_calls     int64\n",
              "Customer_rating         int64\n",
              "Cost_of_the_Product     int64\n",
              "Prior_purchases         int64\n",
              "Product_importance     object\n",
              "Gender                 object\n",
              "Discount_offered        int64\n",
              "Weight_in_gms           int64\n",
              "Reached.on.Time_Y.N     int64\n",
              "dtype: object"
            ],
            "text/html": [
              "<div>\n",
              "<style scoped>\n",
              "    .dataframe tbody tr th:only-of-type {\n",
              "        vertical-align: middle;\n",
              "    }\n",
              "\n",
              "    .dataframe tbody tr th {\n",
              "        vertical-align: top;\n",
              "    }\n",
              "\n",
              "    .dataframe thead th {\n",
              "        text-align: right;\n",
              "    }\n",
              "</style>\n",
              "<table border=\"1\" class=\"dataframe\">\n",
              "  <thead>\n",
              "    <tr style=\"text-align: right;\">\n",
              "      <th></th>\n",
              "      <th>0</th>\n",
              "    </tr>\n",
              "  </thead>\n",
              "  <tbody>\n",
              "    <tr>\n",
              "      <th>Warehouse_block</th>\n",
              "      <td>object</td>\n",
              "    </tr>\n",
              "    <tr>\n",
              "      <th>Mode_of_Shipment</th>\n",
              "      <td>object</td>\n",
              "    </tr>\n",
              "    <tr>\n",
              "      <th>Customer_care_calls</th>\n",
              "      <td>int64</td>\n",
              "    </tr>\n",
              "    <tr>\n",
              "      <th>Customer_rating</th>\n",
              "      <td>int64</td>\n",
              "    </tr>\n",
              "    <tr>\n",
              "      <th>Cost_of_the_Product</th>\n",
              "      <td>int64</td>\n",
              "    </tr>\n",
              "    <tr>\n",
              "      <th>Prior_purchases</th>\n",
              "      <td>int64</td>\n",
              "    </tr>\n",
              "    <tr>\n",
              "      <th>Product_importance</th>\n",
              "      <td>object</td>\n",
              "    </tr>\n",
              "    <tr>\n",
              "      <th>Gender</th>\n",
              "      <td>object</td>\n",
              "    </tr>\n",
              "    <tr>\n",
              "      <th>Discount_offered</th>\n",
              "      <td>int64</td>\n",
              "    </tr>\n",
              "    <tr>\n",
              "      <th>Weight_in_gms</th>\n",
              "      <td>int64</td>\n",
              "    </tr>\n",
              "    <tr>\n",
              "      <th>Reached.on.Time_Y.N</th>\n",
              "      <td>int64</td>\n",
              "    </tr>\n",
              "  </tbody>\n",
              "</table>\n",
              "</div><br><label><b>dtype:</b> object</label>"
            ]
          },
          "metadata": {},
          "execution_count": 27
        }
      ]
    },
    {
      "cell_type": "code",
      "source": [
        "df['Product_importance'] = df['Product_importance'].map({'low': 0, 'medium': 1, 'high': 2})\n",
        "df['Reached.on.Time_Y.N'] = df['Reached.on.Time_Y.N'].astype('category')\n",
        "x = df[['Customer_care_calls','Product_importance','Prior_purchases']].to_numpy()\n",
        "y = df['Reached.on.Time_Y.N'].to_numpy()\n",
        "trainx, testx, trainy, testy = train_test_split(x, y, test_size=0.3, random_state=55)\n",
        "scaler = StandardScaler()\n",
        "scaler.fit(trainx)\n",
        "trainx_scale = scaler.transform(trainx)\n",
        "testx_scale = scaler.transform(testx)\n",
        "model = LogisticRegression(C=20, max_iter=1000)\n",
        "model.fit(trainx_scale, trainy)\n",
        "prediction = model.predict(testx_scale)\n",
        "result = pd.DataFrame(np.array([testy, prediction]).T, columns=['Actual', 'Predict'])\n",
        "print(result.head(10))\n",
        "print(classification_report(result['Actual'], result['Predict']))\n",
        "print(f1_score(result['Actual'], result['Predict']))\n",
        "print(accuracy_score(result['Actual'], result['Predict']))\n",
        "print(precision_score(result['Actual'], result['Predict']))\n",
        "print(recall_score(result['Actual'], result['Predict']))\n",
        "fpr, tpr, thresholds = roc_curve(result['Actual'], result['Predict'])\n",
        "plt.plot(fpr, tpr)\n",
        "plt.show()\n",
        "print(auc(fpr, tpr))"
      ],
      "metadata": {
        "colab": {
          "base_uri": "https://localhost:8080/",
          "height": 864
        },
        "id": "bj3OdM6UzD-B",
        "outputId": "0543a72b-9d08-4d00-a33d-d0494544bce7"
      },
      "execution_count": 28,
      "outputs": [
        {
          "output_type": "stream",
          "name": "stdout",
          "text": [
            "   Actual  Predict\n",
            "0       0        1\n",
            "1       0        1\n",
            "2       1        1\n",
            "3       0        1\n",
            "4       1        1\n",
            "5       0        1\n",
            "6       0        1\n",
            "7       1        1\n",
            "8       0        1\n",
            "9       1        1\n",
            "              precision    recall  f1-score   support\n",
            "\n",
            "           0       0.39      0.02      0.04      1308\n",
            "           1       0.60      0.98      0.75      1992\n",
            "\n",
            "    accuracy                           0.60      3300\n",
            "   macro avg       0.50      0.50      0.39      3300\n",
            "weighted avg       0.52      0.60      0.47      3300\n",
            "\n",
            "0.7471308339709258\n",
            "0.5993939393939394\n",
            "0.603522867737948\n",
            "0.9804216867469879\n"
          ]
        },
        {
          "output_type": "display_data",
          "data": {
            "text/plain": [
              "<Figure size 640x480 with 1 Axes>"
            ],
            "image/png": "[encoded data removed]"
          },
          "metadata": {}
        },
        {
          "output_type": "stream",
          "name": "stdout",
          "text": [
            "0.49976741829704135\n"
          ]
        }
      ]
    },
    {
      "cell_type": "code",
      "source": [
        "import pandas as pd\n",
        "import numpy as np\n",
        "from sklearn.preprocessing import StandardScaler\n",
        "from sklearn.model_selection import train_test_split\n",
        "from sklearn.metrics import classification_report, confusion_matrix\n",
        "from sklearn.metrics import accuracy_score\n",
        "import matplotlib.pyplot as plt\n",
        "from sklearn.svm import SVC\n",
        "data = pd.read_csv('/content/drive/MyDrive/Colab Notebooks/work/train_commerce.csv', index_col=0)\n",
        "df = data.dropna()\n",
        "print(df.dtypes)\n",
        "df['Product_importance'] = df['Product_importance'].map({'low': 0, 'medium': 1, 'high': 2})\n",
        "df['Reached.on.Time_Y.N'] = df['Reached.on.Time_Y.N'].astype('category')\n",
        "x = df[['Customer_care_calls','Product_importance','Prior_purchases']].to_numpy()\n",
        "y = df['Reached.on.Time_Y.N'].to_numpy()\n",
        "trainx, testx, trainy, testy = train_test_split(x, y, test_size=0.3, random_state=55)\n",
        "scaler = StandardScaler()\n",
        "scaler.fit(trainx)\n",
        "xtrainscaled = scaler.transform(trainx)\n",
        "xtestscaled = scaler.transform(testx)\n",
        "model = SVC(kernel='rbf', C=10, gamma=0.1, random_state=42)\n",
        "model.fit(xtrainscaled, trainy)\n",
        "ypred = model.predict(xtestscaled)\n",
        "accuracy = accuracy_score(testy, ypred)\n",
        "print(accuracy)\n",
        "print(classification_report(testy, ypred))\n",
        "resultsvm = pd.DataFrame(np.zeros((3300, 2)), columns=['Actual', 'Predict'])\n",
        "resultsvm['Actual'] = pd.DataFrame(testy)\n",
        "resultsvm['Predict'] = pd.DataFrame(ypred)\n",
        "print(resultsvm.head())"
      ],
      "metadata": {
        "colab": {
          "base_uri": "https://localhost:8080/"
        },
        "id": "MeOvJPiZzz5p",
        "outputId": "b15617b9-b9c1-474e-fb3d-7c710ed0f530"
      },
      "execution_count": 35,
      "outputs": [
        {
          "output_type": "stream",
          "name": "stdout",
          "text": [
            "Warehouse_block        object\n",
            "Mode_of_Shipment       object\n",
            "Customer_care_calls     int64\n",
            "Customer_rating         int64\n",
            "Cost_of_the_Product     int64\n",
            "Prior_purchases         int64\n",
            "Product_importance     object\n",
            "Gender                 object\n",
            "Discount_offered        int64\n",
            "Weight_in_gms           int64\n",
            "Reached.on.Time_Y.N     int64\n",
            "dtype: object\n",
            "0.6051515151515151\n",
            "              precision    recall  f1-score   support\n",
            "\n",
            "           0       0.59      0.01      0.03      1308\n",
            "           1       0.61      0.99      0.75      1992\n",
            "\n",
            "    accuracy                           0.61      3300\n",
            "   macro avg       0.60      0.50      0.39      3300\n",
            "weighted avg       0.60      0.61      0.46      3300\n",
            "\n",
            "   Actual  Predict\n",
            "0       0        1\n",
            "1       0        1\n",
            "2       1        1\n",
            "3       0        1\n",
            "4       1        1\n"
          ]
        }
      ]
    },
    {
      "cell_type": "code",
      "source": [
        "import pandas as pd\n",
        "import numpy as np\n",
        "from sklearn.preprocessing import StandardScaler\n",
        "from sklearn.model_selection import train_test_split\n",
        "from sklearn.metrics import classification_report, confusion_matrix\n",
        "from sklearn.metrics import accuracy_score\n",
        "from sklearn.metrics import roc_curve, auc\n",
        "from sklearn.metrics import f1_score\n",
        "from sklearn.metrics import accuracy_score\n",
        "from sklearn.metrics import precision_score\n",
        "from sklearn.metrics import recall_score\n",
        "import matplotlib.pyplot as plt\n",
        "from sklearn.svm import SVC\n",
        "data = pd.read_csv('/content/drive/MyDrive/Colab Notebooks/work/train_commerce.csv', index_col=0)\n",
        "df = data.dropna()\n",
        "df['Product_importance'] = df['Product_importance'].map({'low': 0, 'medium': 1, 'high': 2})\n",
        "df['Reached.on.Time_Y.N'] = df['Reached.on.Time_Y.N'].astype('category')\n",
        "x = df[['Customer_care_calls','Product_importance','Prior_purchases']].to_numpy()\n",
        "y = df['Reached.on.Time_Y.N'].to_numpy()\n",
        "trainx, testx, trainy, testy = train_test_split(x, y, test_size=0.3, random_state=55)\n",
        "scaler = StandardScaler()\n",
        "scaler.fit(trainx)\n",
        "xtrainscaled = scaler.transform(trainx)\n",
        "xtestscaled = scaler.transform(testx)\n",
        "model = SVC(kernel='rbf', C=10, gamma=0.1, random_state=42)\n",
        "model.fit(xtrainscaled, trainy)\n",
        "ypred = model.predict(xtestscaled)\n",
        "print(f1_score(testy, ypred))\n",
        "print(accuracy_score(testy, ypred))\n",
        "print(precision_score(testy, ypred))\n",
        "print(recall_score(testy, ypred))\n",
        "fpr, tpr, thresholds = roc_curve(testy, ypred)\n",
        "plt.plot(fpr, tpr)\n",
        "plt.show()\n",
        "print(auc(fpr, tpr))"
      ],
      "metadata": {
        "colab": {
          "base_uri": "https://localhost:8080/",
          "height": 517
        },
        "id": "6zzP0R5NUfaX",
        "outputId": "2761a709-48e5-4922-b675-53e066bc6259"
      },
      "execution_count": 36,
      "outputs": [
        {
          "output_type": "stream",
          "name": "stdout",
          "text": [
            "0.7524225726771803\n",
            "0.6051515151515151\n",
            "0.6053194741669214\n",
            "0.9939759036144579\n"
          ]
        },
        {
          "output_type": "display_data",
          "data": {
            "text/plain": [
              "<Figure size 640x480 with 1 Axes>"
            ],
            "image/png": "[encoded data removed]"
          },
          "metadata": {}
        },
        {
          "output_type": "stream",
          "name": "stdout",
          "text": [
            "0.5034864227552412\n"
          ]
        }
      ]
    },
    {
      "cell_type": "code",
      "source": [],
      "metadata": {
        "id": "RASAuE_wbUtF"
      },
      "execution_count": null,
      "outputs": []
    }
  ]
}