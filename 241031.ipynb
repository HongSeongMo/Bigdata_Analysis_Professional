{
  "nbformat": 4,
  "nbformat_minor": 0,
  "metadata": {
    "colab": {
      "provenance": [],
      "mount_file_id": "1_th64-_Ift4P4Mt5SLFT0Zl1mEBak2bD",
      "authorship_tag": "ABX9TyNw1vcH8kROGcL9IUUVlF5K",
      "include_colab_link": true
    },
    "kernelspec": {
      "name": "python3",
      "display_name": "Python 3"
    },
    "language_info": {
      "name": "python"
    }
  },
  "cells": [
    {
      "cell_type": "markdown",
      "metadata": {
        "id": "view-in-github",
        "colab_type": "text"
      },
      "source": [
        "<a href=\"https://colab.research.google.com/github/HongSeongMo/Bigdata_Analysis_Professional/blob/main/241031.ipynb\" target=\"_parent\"><img src=\"https://colab.research.google.com/assets/colab-badge.svg\" alt=\"Open In Colab\"/></a>"
      ]
    },
    {
      "cell_type": "code",
      "execution_count": 4,
      "metadata": {
        "colab": {
          "base_uri": "https://localhost:8080/"
        },
        "id": "LmMno3YyR_19",
        "outputId": "42a457b6-7353-4034-e05d-c71df1f0a35d"
      },
      "outputs": [
        {
          "output_type": "stream",
          "name": "stdout",
          "text": [
            "Drive already mounted at /content/drive; to attempt to forcibly remount, call drive.mount(\"/content/drive\", force_remount=True).\n",
            "177.14181818181822\n",
            "169.5771428571429\n"
          ]
        }
      ],
      "source": [
        "from google.colab import drive\n",
        "drive.mount('/content/drive')\n",
        "import pandas as pd\n",
        "import numpy as np\n",
        "from scipy import stats\n",
        "\n",
        "df = pd.read_csv('/content/drive/MyDrive/Colab Notebooks/work/data.csv', encoding='euc-kr', index_col=0)\n",
        "print(np.mean(df[df['성별'] == '남자'].쇼핑액))\n",
        "print(np.mean(df[df['성별'] == '여자'].쇼핑액))"
      ]
    },
    {
      "cell_type": "code",
      "source": [
        "dfmale = df[df['성별'] == '남자']\n",
        "dffemale = df[df['성별'] == '여자']\n",
        "\n",
        "t, pvalue = stats.ttest_ind(dfmale['쇼핑액'], dffemale['쇼핑액'], equal_var=False, alternative='less')\n",
        "print(t, pvalue)"
      ],
      "metadata": {
        "colab": {
          "base_uri": "https://localhost:8080/"
        },
        "id": "GErCsC5zUD_g",
        "outputId": "f9ceecc5-5c2d-4431-8584-986f6f5a5337"
      },
      "execution_count": 5,
      "outputs": [
        {
          "output_type": "stream",
          "name": "stdout",
          "text": [
            "0.9236189788977162 0.8202250865877998\n"
          ]
        }
      ]
    },
    {
      "cell_type": "code",
      "source": [],
      "metadata": {
        "id": "3AmiKjN4VKlh"
      },
      "execution_count": null,
      "outputs": []
    }
  ]
}