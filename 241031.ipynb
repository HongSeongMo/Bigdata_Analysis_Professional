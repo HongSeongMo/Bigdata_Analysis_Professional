{
  "nbformat": 4,
  "nbformat_minor": 0,
  "metadata": {
    "colab": {
      "provenance": [],
      "mount_file_id": "1_th64-_Ift4P4Mt5SLFT0Zl1mEBak2bD",
      "authorship_tag": "ABX9TyOy+mcoVWCS2S1/Q99vmbbe",
      "include_colab_link": true
    },
    "kernelspec": {
      "name": "python3",
      "display_name": "Python 3"
    },
    "language_info": {
      "name": "python"
    }
  },
  "cells": [
    {
      "cell_type": "markdown",
      "metadata": {
        "id": "view-in-github",
        "colab_type": "text"
      },
      "source": [
        "<a href=\"https://colab.research.google.com/github/HongSeongMo/Bigdata_Analysis_Professional/blob/main/241031.ipynb\" target=\"_parent\"><img src=\"https://colab.research.google.com/assets/colab-badge.svg\" alt=\"Open In Colab\"/></a>"
      ]
    },
    {
      "cell_type": "code",
      "execution_count": null,
      "metadata": {
        "colab": {
          "base_uri": "https://localhost:8080/"
        },
        "id": "LmMno3YyR_19",
        "outputId": "42a457b6-7353-4034-e05d-c71df1f0a35d"
      },
      "outputs": [
        {
          "output_type": "stream",
          "name": "stdout",
          "text": [
            "Drive already mounted at /content/drive; to attempt to forcibly remount, call drive.mount(\"/content/drive\", force_remount=True).\n",
            "177.14181818181822\n",
            "169.5771428571429\n"
          ]
        }
      ],
      "source": [
        "from google.colab import drive\n",
        "drive.mount('/content/drive')\n",
        "import pandas as pd\n",
        "import numpy as np\n",
        "from scipy import stats\n",
        "\n",
        "df = pd.read_csv('/content/drive/MyDrive/Colab Notebooks/work/data.csv', encoding='euc-kr', index_col=0)\n",
        "print(np.mean(df[df['성별'] == '남자'].쇼핑액))\n",
        "print(np.mean(df[df['성별'] == '여자'].쇼핑액))"
      ]
    },
    {
      "cell_type": "code",
      "source": [
        "dfmale = df[df['성별'] == '남자']\n",
        "dffemale = df[df['성별'] == '여자']\n",
        "\n",
        "t, pvalue = stats.ttest_ind(dfmale['쇼핑액'], dffemale['쇼핑액'], equal_var=False, alternative='less')\n",
        "print(t, pvalue)"
      ],
      "metadata": {
        "colab": {
          "base_uri": "https://localhost:8080/"
        },
        "id": "GErCsC5zUD_g",
        "outputId": "f9ceecc5-5c2d-4431-8584-986f6f5a5337"
      },
      "execution_count": null,
      "outputs": [
        {
          "output_type": "stream",
          "name": "stdout",
          "text": [
            "0.9236189788977162 0.8202250865877998\n"
          ]
        }
      ]
    },
    {
      "cell_type": "code",
      "source": [
        "from google.colab import drive\n",
        "drive.mount('/content/drive')\n",
        "import pandas as pd\n",
        "import numpy as np\n",
        "from scipy import stats\n",
        "\n",
        "df = pd.read_csv('/content/drive/MyDrive/Colab Notebooks/work/data.csv', encoding='euc-kr', index_col=0)\n",
        "print(np.mean(df[df['성별'] == '남자'].쇼핑액))\n",
        "print(np.mean(df[df['성별'] == '여자'].쇼핑액))\n",
        "\n",
        "dfmale = df[df['성별'] == '남자']\n",
        "dffemale = df[df['성별'] == '여자']\n",
        "\n",
        "t, pvalue = stats.ttest_ind(dfmale['쇼핑액'], dffemale['쇼핑액'], equal_var=False, alternative='greater')\n",
        "print(t, pvalue)"
      ],
      "metadata": {
        "id": "3AmiKjN4VKlh",
        "colab": {
          "base_uri": "https://localhost:8080/"
        },
        "outputId": "97f45995-1467-43cb-ef13-4bfd9f162206"
      },
      "execution_count": 1,
      "outputs": [
        {
          "output_type": "stream",
          "name": "stdout",
          "text": [
            "Drive already mounted at /content/drive; to attempt to forcibly remount, call drive.mount(\"/content/drive\", force_remount=True).\n",
            "177.14181818181822\n",
            "169.5771428571429\n",
            "0.9236189788977162 0.17977491341220025\n"
          ]
        }
      ]
    },
    {
      "cell_type": "code",
      "source": [
        "dfmale = df[df['성별'] == '남자']\n",
        "dffemale = df[df['성별'] == '여자']\n",
        "noofmale = len(dfmale)\n",
        "nooffemale = len(dffemale)\n",
        "print(noofmale, nooffemale)\n",
        "x1 = len(dfmale[dfmale['쿠폰선호도'] == '예'])\n",
        "x2 = len(dffemale[dffemale['쿠폰선호도'] == '예'])\n",
        "print(x1, x2)"
      ],
      "metadata": {
        "colab": {
          "base_uri": "https://localhost:8080/"
        },
        "id": "y4s-ruwTGYVC",
        "outputId": "33d65e18-eb7e-42fd-da6b-0ee3e1c80aea"
      },
      "execution_count": 4,
      "outputs": [
        {
          "output_type": "stream",
          "name": "stdout",
          "text": [
            "55 35\n",
            "22 26\n"
          ]
        }
      ]
    },
    {
      "cell_type": "code",
      "source": [
        "observed = [[[x1, x2], [noofmale - x1, nooffemale - x2]]]\n",
        "print(observed)"
      ],
      "metadata": {
        "colab": {
          "base_uri": "https://localhost:8080/"
        },
        "id": "FWx0EEs5IbgP",
        "outputId": "07a78f22-0db7-46e6-b869-1338e014e8b1"
      },
      "execution_count": 5,
      "outputs": [
        {
          "output_type": "stream",
          "name": "stdout",
          "text": [
            "[[[22, 26], [33, 9]]]\n"
          ]
        }
      ]
    },
    {
      "cell_type": "code",
      "source": [
        "chi, pvalue, dof, expect = stats.chi2_contingency(observed)\n",
        "print(chi, pvalue, dof)\n",
        "print(expect)"
      ],
      "metadata": {
        "colab": {
          "base_uri": "https://localhost:8080/"
        },
        "id": "Mk08p2XwI9MO",
        "outputId": "fd82feec-21e1-4a96-cf81-ff25012fd5e3"
      },
      "execution_count": 9,
      "outputs": [
        {
          "output_type": "stream",
          "name": "stdout",
          "text": [
            "8.771451762523188 0.0030598180813934195 1\n",
            "[[[29.33333333 18.66666667]\n",
            "  [25.66666667 16.33333333]]]\n"
          ]
        }
      ]
    },
    {
      "cell_type": "code",
      "source": [
        "alpha = 0.05\n",
        "if pvalue < alpha:\n",
        "  print('귀무가설 기각')\n",
        "else:\n",
        "  print('귀무가설 채택')"
      ],
      "metadata": {
        "colab": {
          "base_uri": "https://localhost:8080/"
        },
        "id": "y4OIm6HPJPLJ",
        "outputId": "da4b667e-f943-4bd2-ab6c-0805029aadbb"
      },
      "execution_count": 10,
      "outputs": [
        {
          "output_type": "stream",
          "name": "stdout",
          "text": [
            "귀무가설 기각\n"
          ]
        }
      ]
    },
    {
      "cell_type": "code",
      "source": [
        "import pandas as pd\n",
        "import numpy as np\n",
        "from scipy import stats\n",
        "df = pd.read_csv('/content/drive/MyDrive/Colab Notebooks/work/data.csv', encoding='euc-kr', index_col=0)\n",
        "df1 = df[df['주거지역'] == '소도시'].쇼핑액\n",
        "df2 = df[df['주거지역'] == '중도시'].쇼핑액\n",
        "df3 = df[df['주거지역'] == '대도시'].쇼핑액\n",
        "print(df1.describe())\n",
        "print(df2.describe())\n",
        "print(df3.describe())"
      ],
      "metadata": {
        "colab": {
          "base_uri": "https://localhost:8080/"
        },
        "id": "9bHEtg-IJwn4",
        "outputId": "16b4efba-48db-4288-d8fc-e3b73c307d0d"
      },
      "execution_count": 2,
      "outputs": [
        {
          "output_type": "stream",
          "name": "stdout",
          "text": [
            "count     30.000000\n",
            "mean     167.680000\n",
            "std       41.960297\n",
            "min       80.400000\n",
            "25%      147.300000\n",
            "50%      169.200000\n",
            "75%      195.000000\n",
            "max      238.800000\n",
            "Name: 쇼핑액, dtype: float64\n",
            "count     24.000000\n",
            "mean     178.500000\n",
            "std       36.358648\n",
            "min      111.600000\n",
            "25%      158.700000\n",
            "50%      172.800000\n",
            "75%      205.800000\n",
            "max      237.600000\n",
            "Name: 쇼핑액, dtype: float64\n",
            "count     36.000000\n",
            "mean     176.766667\n",
            "std       28.521250\n",
            "min      112.800000\n",
            "25%      159.300000\n",
            "50%      176.400000\n",
            "75%      195.600000\n",
            "max      244.800000\n",
            "Name: 쇼핑액, dtype: float64\n"
          ]
        }
      ]
    },
    {
      "cell_type": "code",
      "source": [
        "group1 = df1.to_numpy()\n",
        "group2 = df2.to_numpy()\n",
        "group3 = df3.to_numpy()\n",
        "n1 = len(group1)\n",
        "n2 = len(group2)\n",
        "n3 = len(group3)\n",
        "print(n1, n2, n3)"
      ],
      "metadata": {
        "colab": {
          "base_uri": "https://localhost:8080/"
        },
        "id": "01Xj6vG62MQE",
        "outputId": "ac3d47d6-fc1c-4fbd-e05e-88e9fd4d880b"
      },
      "execution_count": 3,
      "outputs": [
        {
          "output_type": "stream",
          "name": "stdout",
          "text": [
            "30 24 36\n"
          ]
        }
      ]
    },
    {
      "cell_type": "code",
      "source": [
        "avg1 = np.mean(group1)\n",
        "avg2 = np.mean(group2)\n",
        "avg3 = np.mean(group3)\n",
        "print(avg1, avg2, avg3)"
      ],
      "metadata": {
        "colab": {
          "base_uri": "https://localhost:8080/"
        },
        "id": "sg2ANZos2wRI",
        "outputId": "ec0a8dcc-3ba3-45df-b395-d973eb00a0df"
      },
      "execution_count": 4,
      "outputs": [
        {
          "output_type": "stream",
          "name": "stdout",
          "text": [
            "167.67999999999998 178.5 176.76666666666668\n"
          ]
        }
      ]
    },
    {
      "cell_type": "code",
      "source": [
        "var1 = np.var(group1, ddof=1)\n",
        "var2 = np.var(group2, ddof=1)\n",
        "var3 = np.var(group3, ddof=1)\n",
        "print(var1, var2, var3)"
      ],
      "metadata": {
        "colab": {
          "base_uri": "https://localhost:8080/"
        },
        "id": "_6RxdRmE4j0t",
        "outputId": "abd7dd12-26d1-439c-c5c4-3066568f989d"
      },
      "execution_count": 6,
      "outputs": [
        {
          "output_type": "stream",
          "name": "stdout",
          "text": [
            "1760.666482758621 1321.9513043478262 813.4617142857143\n"
          ]
        }
      ]
    },
    {
      "cell_type": "code",
      "source": [
        "Fstatistics, pvalue = stats.f_oneway(group1, group2, group3)\n",
        "print(Fstatistics, pvalue)"
      ],
      "metadata": {
        "colab": {
          "base_uri": "https://localhost:8080/"
        },
        "id": "MabBzlAx-SSC",
        "outputId": "b0509a30-7909-41fb-d031-7af0c09b1102"
      },
      "execution_count": 7,
      "outputs": [
        {
          "output_type": "stream",
          "name": "stdout",
          "text": [
            "0.7740556433121684 0.46428841020338874\n"
          ]
        }
      ]
    },
    {
      "cell_type": "code",
      "source": [
        "alpha = 0.05\n",
        "if pvalue < alpha:\n",
        "  print('귀무가설 기각')\n",
        "else:\n",
        "  print('귀무가설 채택')"
      ],
      "metadata": {
        "colab": {
          "base_uri": "https://localhost:8080/"
        },
        "id": "nXIFopQi-xzh",
        "outputId": "7d852b12-baeb-4c75-bf6d-469a7c4ad467"
      },
      "execution_count": 8,
      "outputs": [
        {
          "output_type": "stream",
          "name": "stdout",
          "text": [
            "귀무가설 채택\n"
          ]
        }
      ]
    },
    {
      "cell_type": "code",
      "source": [
        "import matplotlib.pyplot as plt\n",
        "import seaborn as sns\n",
        "df = pd.read_csv('/content/drive/MyDrive/Colab Notebooks/work/data.csv', encoding='euc-kr', index_col=0)\n",
        "df1 = df[df['주거지역'] == '소도시'].쇼핑액\n",
        "df2 = df[df['주거지역'] == '중도시'].쇼핑액\n",
        "df3 = df[df['주거지역'] == '대도시'].쇼핑액\n",
        "group1 = df1.to_numpy()\n",
        "group2 = df2.to_numpy()\n",
        "group3 = df3.to_numpy()\n",
        "Fstatistics, pvalue = stats.f_oneway(group1, group2, group3)\n",
        "print(Fstatistics, pvalue)"
      ],
      "metadata": {
        "colab": {
          "base_uri": "https://localhost:8080/"
        },
        "id": "-p49zUP9-7fD",
        "outputId": "f8d0d0b9-a989-4839-b371-f01a117b4b68"
      },
      "execution_count": 9,
      "outputs": [
        {
          "output_type": "stream",
          "name": "stdout",
          "text": [
            "0.7740556433121684 0.46428841020338874\n"
          ]
        }
      ]
    },
    {
      "cell_type": "code",
      "source": [
        "plt.rcParams['figure.figsize'] = [10, 6]\n",
        "sns.kdeplot(group1)\n",
        "sns.kdeplot(group2)\n",
        "sns.kdeplot(group3)\n",
        "plt.show()"
      ],
      "metadata": {
        "colab": {
          "base_uri": "https://localhost:8080/",
          "height": 522
        },
        "id": "kL9b-Sxv_a5n",
        "outputId": "d8827781-d3d7-432c-a033-aaed778a44c0"
      },
      "execution_count": 10,
      "outputs": [
        {
          "output_type": "display_data",
          "data": {
            "text/plain": [
              "<Figure size 1000x600 with 1 Axes>"
            ],
            "image/png": "[encoded data removed]"
          },
          "metadata": {}
        }
      ]
    },
    {
      "cell_type": "code",
      "source": [
        "sns.boxplot(data=[group1, group2, group3])\n",
        "plt.xlabel('Group')\n",
        "plt.ylabel('Value')\n",
        "plt.show()"
      ],
      "metadata": {
        "colab": {
          "base_uri": "https://localhost:8080/",
          "height": 542
        },
        "id": "E-WJao_T_xh4",
        "outputId": "f4cbcf49-1545-4916-804b-416dd3dde570"
      },
      "execution_count": 11,
      "outputs": [
        {
          "output_type": "display_data",
          "data": {
            "text/plain": [
              "<Figure size 1000x600 with 1 Axes>"
            ],
            "image/png": "[encoded data removed]"
          },
          "metadata": {}
        }
      ]
    },
    {
      "cell_type": "code",
      "source": [
        "import pandas as pd\n",
        "import numpy as np\n",
        "from scipy import stats\n",
        "import statsmodels.api as sm\n",
        "from statsmodels.formula.api import ols\n",
        "import warnings\n",
        "warnings.filterwarnings('ignore')\n",
        "df = pd.read_csv('/content/drive/MyDrive/Colab Notebooks/work/data.csv', encoding='euc-kr', index_col=0)\n",
        "dfnew = df[['쇼핑1월', '쇼핑2월', '쇼핑3월']]\n",
        "print(dfnew['쇼핑1월'].describe())\n",
        "print(dfnew['쇼핑2월'].describe())\n",
        "print(dfnew['쇼핑3월'].describe())\n",
        "print(dfnew.head())\n",
        "print(dfnew['쇼핑1월'].shape)\n",
        "print(dfnew['쇼핑2월'].shape)\n",
        "print(dfnew['쇼핑3월'].shape)"
      ],
      "metadata": {
        "colab": {
          "base_uri": "https://localhost:8080/"
        },
        "id": "em-nE-qe__CB",
        "outputId": "1b8ed265-70b4-41a1-e6fa-36872a7b42e5"
      },
      "execution_count": 28,
      "outputs": [
        {
          "output_type": "stream",
          "name": "stdout",
          "text": [
            "count    90.000000\n",
            "mean     64.973333\n",
            "std      19.221528\n",
            "min      15.600000\n",
            "25%      52.800000\n",
            "50%      64.800000\n",
            "75%      80.100000\n",
            "max      92.400000\n",
            "Name: 쇼핑1월, dtype: float64\n",
            "count    90.000000\n",
            "mean     61.120000\n",
            "std      17.848622\n",
            "min      13.200000\n",
            "25%      52.800000\n",
            "50%      56.400000\n",
            "75%      67.200000\n",
            "max      92.400000\n",
            "Name: 쇼핑2월, dtype: float64\n",
            "count    90.000000\n",
            "mean     48.106667\n",
            "std      17.846668\n",
            "min      13.200000\n",
            "25%      38.700000\n",
            "50%      52.800000\n",
            "75%      52.800000\n",
            "max      92.400000\n",
            "Name: 쇼핑3월, dtype: float64\n",
            "        쇼핑1월  쇼핑2월  쇼핑3월\n",
            "고객번호                    \n",
            "190105  76.8  64.8  54.0\n",
            "190106  44.4  32.4  39.6\n",
            "190107  66.0  66.0  51.6\n",
            "190108  62.4  52.8  52.8\n",
            "190109  63.6  54.0  51.6\n",
            "(90,)\n",
            "(90,)\n",
            "(90,)\n"
          ]
        }
      ]
    },
    {
      "cell_type": "code",
      "source": [
        "dfnew['month1'] = 1\n",
        "dfnew['month2'] = 2\n",
        "dfnew['month3'] = 3\n",
        "d1 = dfnew[['쇼핑1월', 'month1']]\n",
        "d1.rename(columns={'쇼핑1월':'value', 'month1':'month'}, inplace=True)\n",
        "d2 = dfnew[['쇼핑2월', 'month2']]\n",
        "d2.rename(columns={'쇼핑2월':'value', 'month2':'month'}, inplace=True)\n",
        "d3 = dfnew[['쇼핑3월', 'month3']]\n",
        "d3.rename(columns={'쇼핑3월':'value', 'month3':'month'}, inplace=True)\n",
        "# dtotal = (d1.append(d2, ignore_index=True)).append(d3, ignore_index=True)\n",
        "dtotal = pd.concat([d1, d2, d3], ignore_index=True)\n",
        "print(dtotal.head())"
      ],
      "metadata": {
        "colab": {
          "base_uri": "https://localhost:8080/"
        },
        "id": "jEtyKQsNFG4G",
        "outputId": "7bb0f5e4-85ea-48a0-ca8f-b7071029a78d"
      },
      "execution_count": 29,
      "outputs": [
        {
          "output_type": "stream",
          "name": "stdout",
          "text": [
            "   value  month\n",
            "0   76.8      1\n",
            "1   44.4      1\n",
            "2   66.0      1\n",
            "3   62.4      1\n",
            "4   63.6      1\n"
          ]
        }
      ]
    },
    {
      "cell_type": "code",
      "source": [
        "dtotal.shape"
      ],
      "metadata": {
        "colab": {
          "base_uri": "https://localhost:8080/"
        },
        "id": "9zrmoyWwFa4p",
        "outputId": "5d36ca52-a0af-4d23-a102-8235a196f710"
      },
      "execution_count": 30,
      "outputs": [
        {
          "output_type": "execute_result",
          "data": {
            "text/plain": [
              "(270, 2)"
            ]
          },
          "metadata": {},
          "execution_count": 30
        }
      ]
    },
    {
      "cell_type": "code",
      "source": [
        "model = ols('value ~ C(month)', data=dtotal).fit()\n",
        "anova_table = sm.stats.anova_lm(model, typ=2)\n",
        "print(anova_table)"
      ],
      "metadata": {
        "colab": {
          "base_uri": "https://localhost:8080/"
        },
        "id": "K7gKhdw3JCpn",
        "outputId": "29429cd8-ca1a-4708-c479-b98f56349327"
      },
      "execution_count": 20,
      "outputs": [
        {
          "output_type": "stream",
          "name": "stdout",
          "text": [
            "             sum_sq     df          F        PR(>F)\n",
            "C(month)  14060.384    2.0  20.953457  3.525860e-09\n",
            "Residual  89582.416  267.0        NaN           NaN\n"
          ]
        }
      ]
    },
    {
      "cell_type": "code",
      "source": [
        "print(anova_table.loc['C(month)', 'F'])\n",
        "print(anova_table.loc['C(month)', 'PR(>F)'])"
      ],
      "metadata": {
        "colab": {
          "base_uri": "https://localhost:8080/"
        },
        "id": "-eYPNfCbJZG2",
        "outputId": "7f771b45-fb46-4f81-8797-c248c145a0a8"
      },
      "execution_count": 23,
      "outputs": [
        {
          "output_type": "stream",
          "name": "stdout",
          "text": [
            "20.953456580139303\n",
            "3.5258602754912673e-09\n"
          ]
        }
      ]
    },
    {
      "cell_type": "code",
      "source": [
        "alpha = 0.05\n",
        "if anova_table.loc['C(month)', 'PR(>F)'] < alpha:\n",
        "    print('귀무가설 기각')\n",
        "else:\n",
        "  print('귀무가설 채택')"
      ],
      "metadata": {
        "colab": {
          "base_uri": "https://localhost:8080/"
        },
        "id": "qcNpkq7-JzWY",
        "outputId": "0f6ae5fa-f9b6-4835-e92f-ad997fcb7c58"
      },
      "execution_count": 25,
      "outputs": [
        {
          "output_type": "stream",
          "name": "stdout",
          "text": [
            "귀무가설 기각\n"
          ]
        }
      ]
    },
    {
      "cell_type": "code",
      "source": [],
      "metadata": {
        "id": "ftSPfPaHKdAJ"
      },
      "execution_count": null,
      "outputs": []
    }
  ]
}