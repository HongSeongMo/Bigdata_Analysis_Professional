{
  "nbformat": 4,
  "nbformat_minor": 0,
  "metadata": {
    "colab": {
      "provenance": [],
      "mount_file_id": "1_th64-_Ift4P4Mt5SLFT0Zl1mEBak2bD",
      "authorship_tag": "ABX9TyMAnzrkLIt8Icikko0f2ZyU",
      "include_colab_link": true
    },
    "kernelspec": {
      "name": "python3",
      "display_name": "Python 3"
    },
    "language_info": {
      "name": "python"
    }
  },
  "cells": [
    {
      "cell_type": "markdown",
      "metadata": {
        "id": "view-in-github",
        "colab_type": "text"
      },
      "source": [
        "<a href=\"https://colab.research.google.com/github/HongSeongMo/Bigdata_Analysis_Professional/blob/main/241031.ipynb\" target=\"_parent\"><img src=\"https://colab.research.google.com/assets/colab-badge.svg\" alt=\"Open In Colab\"/></a>"
      ]
    },
    {
      "cell_type": "code",
      "execution_count": null,
      "metadata": {
        "colab": {
          "base_uri": "https://localhost:8080/"
        },
        "id": "LmMno3YyR_19",
        "outputId": "42a457b6-7353-4034-e05d-c71df1f0a35d"
      },
      "outputs": [
        {
          "output_type": "stream",
          "name": "stdout",
          "text": [
            "Drive already mounted at /content/drive; to attempt to forcibly remount, call drive.mount(\"/content/drive\", force_remount=True).\n",
            "177.14181818181822\n",
            "169.5771428571429\n"
          ]
        }
      ],
      "source": [
        "from google.colab import drive\n",
        "drive.mount('/content/drive')\n",
        "import pandas as pd\n",
        "import numpy as np\n",
        "from scipy import stats\n",
        "\n",
        "df = pd.read_csv('/content/drive/MyDrive/Colab Notebooks/work/data.csv', encoding='euc-kr', index_col=0)\n",
        "print(np.mean(df[df['성별'] == '남자'].쇼핑액))\n",
        "print(np.mean(df[df['성별'] == '여자'].쇼핑액))"
      ]
    },
    {
      "cell_type": "code",
      "source": [
        "dfmale = df[df['성별'] == '남자']\n",
        "dffemale = df[df['성별'] == '여자']\n",
        "\n",
        "t, pvalue = stats.ttest_ind(dfmale['쇼핑액'], dffemale['쇼핑액'], equal_var=False, alternative='less')\n",
        "print(t, pvalue)"
      ],
      "metadata": {
        "colab": {
          "base_uri": "https://localhost:8080/"
        },
        "id": "GErCsC5zUD_g",
        "outputId": "f9ceecc5-5c2d-4431-8584-986f6f5a5337"
      },
      "execution_count": null,
      "outputs": [
        {
          "output_type": "stream",
          "name": "stdout",
          "text": [
            "0.9236189788977162 0.8202250865877998\n"
          ]
        }
      ]
    },
    {
      "cell_type": "code",
      "source": [
        "from google.colab import drive\n",
        "drive.mount('/content/drive')\n",
        "import pandas as pd\n",
        "import numpy as np\n",
        "from scipy import stats\n",
        "\n",
        "df = pd.read_csv('/content/drive/MyDrive/Colab Notebooks/work/data.csv', encoding='euc-kr', index_col=0)\n",
        "print(np.mean(df[df['성별'] == '남자'].쇼핑액))\n",
        "print(np.mean(df[df['성별'] == '여자'].쇼핑액))\n",
        "\n",
        "dfmale = df[df['성별'] == '남자']\n",
        "dffemale = df[df['성별'] == '여자']\n",
        "\n",
        "t, pvalue = stats.ttest_ind(dfmale['쇼핑액'], dffemale['쇼핑액'], equal_var=False, alternative='greater')\n",
        "print(t, pvalue)"
      ],
      "metadata": {
        "id": "3AmiKjN4VKlh",
        "colab": {
          "base_uri": "https://localhost:8080/"
        },
        "outputId": "97f45995-1467-43cb-ef13-4bfd9f162206"
      },
      "execution_count": 1,
      "outputs": [
        {
          "output_type": "stream",
          "name": "stdout",
          "text": [
            "Drive already mounted at /content/drive; to attempt to forcibly remount, call drive.mount(\"/content/drive\", force_remount=True).\n",
            "177.14181818181822\n",
            "169.5771428571429\n",
            "0.9236189788977162 0.17977491341220025\n"
          ]
        }
      ]
    },
    {
      "cell_type": "code",
      "source": [
        "dfmale = df[df['성별'] == '남자']\n",
        "dffemale = df[df['성별'] == '여자']\n",
        "noofmale = len(dfmale)\n",
        "nooffemale = len(dffemale)\n",
        "print(noofmale, nooffemale)\n",
        "x1 = len(dfmale[dfmale['쿠폰선호도'] == '예'])\n",
        "x2 = len(dffemale[dffemale['쿠폰선호도'] == '예'])\n",
        "print(x1, x2)"
      ],
      "metadata": {
        "colab": {
          "base_uri": "https://localhost:8080/"
        },
        "id": "y4s-ruwTGYVC",
        "outputId": "33d65e18-eb7e-42fd-da6b-0ee3e1c80aea"
      },
      "execution_count": 4,
      "outputs": [
        {
          "output_type": "stream",
          "name": "stdout",
          "text": [
            "55 35\n",
            "22 26\n"
          ]
        }
      ]
    },
    {
      "cell_type": "code",
      "source": [
        "observed = [[[x1, x2], [noofmale - x1, nooffemale - x2]]]\n",
        "print(observed)"
      ],
      "metadata": {
        "colab": {
          "base_uri": "https://localhost:8080/"
        },
        "id": "FWx0EEs5IbgP",
        "outputId": "07a78f22-0db7-46e6-b869-1338e014e8b1"
      },
      "execution_count": 5,
      "outputs": [
        {
          "output_type": "stream",
          "name": "stdout",
          "text": [
            "[[[22, 26], [33, 9]]]\n"
          ]
        }
      ]
    },
    {
      "cell_type": "code",
      "source": [
        "chi, pvalue, dof, expect = stats.chi2_contingency(observed)\n",
        "print(chi, pvalue, dof)\n",
        "print(expect)"
      ],
      "metadata": {
        "colab": {
          "base_uri": "https://localhost:8080/"
        },
        "id": "Mk08p2XwI9MO",
        "outputId": "fd82feec-21e1-4a96-cf81-ff25012fd5e3"
      },
      "execution_count": 9,
      "outputs": [
        {
          "output_type": "stream",
          "name": "stdout",
          "text": [
            "8.771451762523188 0.0030598180813934195 1\n",
            "[[[29.33333333 18.66666667]\n",
            "  [25.66666667 16.33333333]]]\n"
          ]
        }
      ]
    },
    {
      "cell_type": "code",
      "source": [
        "alpha = 0.05\n",
        "if pvalue < alpha:\n",
        "  print('귀무가설 기각')\n",
        "else:\n",
        "  print('귀무가설 채택')"
      ],
      "metadata": {
        "colab": {
          "base_uri": "https://localhost:8080/"
        },
        "id": "y4OIm6HPJPLJ",
        "outputId": "da4b667e-f943-4bd2-ab6c-0805029aadbb"
      },
      "execution_count": 10,
      "outputs": [
        {
          "output_type": "stream",
          "name": "stdout",
          "text": [
            "귀무가설 기각\n"
          ]
        }
      ]
    },
    {
      "cell_type": "code",
      "source": [],
      "metadata": {
        "id": "9bHEtg-IJwn4"
      },
      "execution_count": null,
      "outputs": []
    }
  ]
}