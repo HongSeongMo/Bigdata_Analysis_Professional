{
  "nbformat": 4,
  "nbformat_minor": 0,
  "metadata": {
    "colab": {
      "provenance": [],
      "mount_file_id": "1qXRB20RW9XBpkSt5nL0zjifIZ727V0jZ",
      "authorship_tag": "ABX9TyOU6/PgN7TWuJAKzIOGfsFn",
      "include_colab_link": true
    },
    "kernelspec": {
      "name": "python3",
      "display_name": "Python 3"
    },
    "language_info": {
      "name": "python"
    }
  },
  "cells": [
    {
      "cell_type": "markdown",
      "metadata": {
        "id": "view-in-github",
        "colab_type": "text"
      },
      "source": [
        "<a href=\"https://colab.research.google.com/github/HongSeongMo/Bigdata_Analysis_Professional/blob/main/241102.ipynb\" target=\"_parent\"><img src=\"https://colab.research.google.com/assets/colab-badge.svg\" alt=\"Open In Colab\"/></a>"
      ]
    },
    {
      "cell_type": "markdown",
      "source": [
        "제2장 예측 분석 모형 평가"
      ],
      "metadata": {
        "id": "QgL0TONEQo2F"
      }
    },
    {
      "cell_type": "code",
      "execution_count": 12,
      "metadata": {
        "id": "r8WFsQyYQlQ5",
        "colab": {
          "base_uri": "https://localhost:8080/"
        },
        "outputId": "3251ac5d-6e6e-43d7-eec2-31c919c4b83e"
      },
      "outputs": [
        {
          "output_type": "stream",
          "name": "stdout",
          "text": [
            "Drive already mounted at /content/drive; to attempt to forcibly remount, call drive.mount(\"/content/drive\", force_remount=True).\n",
            "                    mpg  cyl   disp   hp  drat     wt   qsec  vs  am  gear  \\\n",
            "model                                                                        \n",
            "Mazda RX4          21.0    6  160.0  110  3.90  2.620  16.46   0   1     4   \n",
            "Mazda RX4 Wag      21.0    6  160.0  110  3.90  2.875  17.02   0   1     4   \n",
            "Datsun 710         22.8    4  108.0   93  3.85  2.320  18.61   1   1     4   \n",
            "Hornet 4 Drive     21.4    6  258.0  110  3.08  3.215  19.44   1   0     3   \n",
            "Hornet Sportabout  18.7    8  360.0  175  3.15  3.440  17.02   0   0     3   \n",
            "\n",
            "                   carb  \n",
            "model                    \n",
            "Mazda RX4             4  \n",
            "Mazda RX4 Wag         4  \n",
            "Datsun 710            1  \n",
            "Hornet 4 Drive        1  \n",
            "Hornet Sportabout     2  \n",
            "                    mpg  cyl   disp   hp  drat     wt   qsec  vs  am  gear  \\\n",
            "model                                                                        \n",
            "Mazda RX4          21.0    6  160.0  110  3.90  2.620  16.46   0   1     4   \n",
            "Mazda RX4 Wag      21.0    6  160.0  110  3.90  2.875  17.02   0   1     4   \n",
            "Datsun 710         22.8    4  108.0   93  3.85  2.320  18.61   1   1     4   \n",
            "Hornet 4 Drive     21.4    6  258.0  110  3.08  3.215  19.44   1   0     3   \n",
            "Hornet Sportabout  18.7    8  360.0  175  3.15  3.440  17.02   0   0     3   \n",
            "\n",
            "                   carb       pred  \n",
            "model                               \n",
            "Mazda RX4             4  22.583962  \n",
            "Mazda RX4 Wag         4  21.713366  \n",
            "Datsun 710            1  25.315315  \n",
            "Hornet 4 Drive        1  21.724442  \n",
            "Hornet Sportabout     2  18.429194  \n",
            "$$$(실제값, 예측값) 첫 10행 출력$$$\n",
            "                    mpg       pred\n",
            "model                             \n",
            "Mazda RX4          21.0  22.583962\n",
            "Mazda RX4 Wag      21.0  21.713366\n",
            "Datsun 710         22.8  25.315315\n",
            "Hornet 4 Drive     21.4  21.724442\n",
            "Hornet Sportabout  18.7  18.429194\n",
            "Valiant            18.1  21.024991\n",
            "Duster 360         14.3  15.881265\n",
            "Merc 240D          24.4  22.743604\n",
            "Merc 230           22.8  23.874317\n",
            "Merc 280           19.2  19.583341\n",
            "평균 예측 오차(Mean of Errors)/ME: -9.936496070395151e-15\n",
            "평균 제곱 오차(Mean of Squared Errors)/MSE: 5.801103904461536\n",
            "평균 제곱근 오차(Root Mean Squared Errors)/RMSE: 2.408548090543665\n",
            "평균 절대 오차(Mean Absolute Error)/MAE: 1.8575206018582857\n",
            "평균 절대 백분율 오차(Mean Absolute Percentage Error)/MAPE: 0.0951814783833173\n"
          ]
        }
      ],
      "source": [
        "from collections.abc import MutableSequence\n",
        "from google.colab import drive\n",
        "drive.mount('/content/drive')\n",
        "import pandas as pd\n",
        "from statsmodels.formula.api import ols\n",
        "import math\n",
        "data = pd.read_csv('/content/drive/MyDrive/Colab Notebooks/work/mtcars.csv', header=0, index_col=0)\n",
        "print(data.head())\n",
        "x = data[['disp','hp','wt','qsec']]\n",
        "y = data['mpg']\n",
        "fit = ols('y~x', data=data).fit()\n",
        "# fit.summary()\n",
        "data['pred'] = fit.fittedvalues\n",
        "print(data.head())\n",
        "print('$$$(실제값, 예측값) 첫 10행 출력$$$')\n",
        "results = data[['mpg','pred']].head(10)\n",
        "print(results.head(10))\n",
        "me = (data['mpg'] - data['pred']).mean()\n",
        "print('평균 예측 오차(Mean of Errors)/ME: ', end='')\n",
        "print(me)\n",
        "mse = ((data['mpg'] - data['pred'])**2).mean()\n",
        "print('평균 제곱 오차(Mean of Squared Errors)/MSE: ', end='')\n",
        "print(mse)\n",
        "rmse = math.sqrt(mse)\n",
        "print('평균 제곱근 오차(Root Mean Squared Errors)/RMSE: ', end='')\n",
        "print(rmse)\n",
        "mae = abs(data['mpg'] - data['pred']).mean()\n",
        "print('평균 절대 오차(Mean Absolute Error)/MAE: ', end='')\n",
        "print(mae)\n",
        "mape = abs((data['mpg'] - data['pred'])/data['mpg']).mean()\n",
        "print('평균 절대 백분율 오차(Mean Absolute Percentage Error)/MAPE: ', end='')\n",
        "print(mape)"
      ]
    },
    {
      "cell_type": "code",
      "source": [
        "import pandas as pd\n",
        "from statsmodels.formula.api import ols\n",
        "import math\n",
        "from sklearn.linear_model import LinearRegression\n",
        "import matplotlib.pyplot as plt\n",
        "import warnings\n",
        "warnings.filterwarnings('ignore')\n",
        "import numpy as np\n",
        "data = pd.read_csv('/content/drive/MyDrive/Colab Notebooks/work/mtcars.csv', header=0, index_col=0)\n",
        "print(data.head())\n",
        "x = data[['disp','hp','wt','qsec']]\n",
        "y = data['mpg']\n",
        "fit = ols('y ~ x', data=data).fit()\n",
        "print(fit.summary())\n",
        "data['pred'] = fit.fittedvalues\n",
        "print('$$$잔차값, Residuals, 첫5행$$$')\n",
        "print(fit.resid[:5])\n",
        "print('잔차값의 평균: ', end='')\n",
        "print(fit.resid.mean())\n",
        "model = LinearRegression()\n",
        "model.fit(data[['mpg']], data['pred'])\n",
        "y_fit = model.predict(y.to_numpy().reshape(-1,1))\n",
        "plt.figure(figsize=(10,5))\n",
        "plt.scatter(y, data['pred'])\n",
        "plt.plot(y, y_fit, color='red')\n",
        "plt.xlabel('Actual_mpg (miles/gallon)')\n",
        "plt.ylabel('predictive_mpg(miles/gallon)')\n",
        "plt.legend(('Actual Value', 'Predictive Value'), loc='center right')\n",
        "plt.show()"
      ],
      "metadata": {
        "colab": {
          "base_uri": "https://localhost:8080/",
          "height": 1000
        },
        "id": "7umyZXi0ywTY",
        "outputId": "b640c80c-02ca-4dde-c810-c8fa5b4767fe"
      },
      "execution_count": 19,
      "outputs": [
        {
          "output_type": "stream",
          "name": "stdout",
          "text": [
            "                    mpg  cyl   disp   hp  drat     wt   qsec  vs  am  gear  \\\n",
            "model                                                                        \n",
            "Mazda RX4          21.0    6  160.0  110  3.90  2.620  16.46   0   1     4   \n",
            "Mazda RX4 Wag      21.0    6  160.0  110  3.90  2.875  17.02   0   1     4   \n",
            "Datsun 710         22.8    4  108.0   93  3.85  2.320  18.61   1   1     4   \n",
            "Hornet 4 Drive     21.4    6  258.0  110  3.08  3.215  19.44   1   0     3   \n",
            "Hornet Sportabout  18.7    8  360.0  175  3.15  3.440  17.02   0   0     3   \n",
            "\n",
            "                   carb  \n",
            "model                    \n",
            "Mazda RX4             4  \n",
            "Mazda RX4 Wag         4  \n",
            "Datsun 710            1  \n",
            "Hornet 4 Drive        1  \n",
            "Hornet Sportabout     2  \n",
            "                            OLS Regression Results                            \n",
            "==============================================================================\n",
            "Dep. Variable:                      y   R-squared:                       0.835\n",
            "Model:                            OLS   Adj. R-squared:                  0.811\n",
            "Method:                 Least Squares   F-statistic:                     34.19\n",
            "Date:                Sat, 02 Nov 2024   Prob (F-statistic):           3.31e-10\n",
            "Time:                        04:16:40   Log-Likelihood:                -73.535\n",
            "No. Observations:                  32   AIC:                             157.1\n",
            "Df Residuals:                      27   BIC:                             164.4\n",
            "Df Model:                           4                                         \n",
            "Covariance Type:            nonrobust                                         \n",
            "==============================================================================\n",
            "                 coef    std err          t      P>|t|      [0.025      0.975]\n",
            "------------------------------------------------------------------------------\n",
            "Intercept     27.3296      8.639      3.164      0.004       9.604      45.055\n",
            "x[0]           0.0027      0.011      0.248      0.806      -0.019       0.025\n",
            "x[1]          -0.0187      0.016     -1.196      0.242      -0.051       0.013\n",
            "x[2]          -4.6091      1.266     -3.641      0.001      -7.206      -2.012\n",
            "x[3]           0.5442      0.466      1.166      0.254      -0.413       1.501\n",
            "==============================================================================\n",
            "Omnibus:                        4.505   Durbin-Watson:                   1.413\n",
            "Prob(Omnibus):                  0.105   Jarque-Bera (JB):                3.316\n",
            "Skew:                           0.776   Prob(JB):                        0.191\n",
            "Kurtosis:                       3.279   Cond. No.                     5.69e+03\n",
            "==============================================================================\n",
            "\n",
            "Notes:\n",
            "[1] Standard Errors assume that the covariance matrix of the errors is correctly specified.\n",
            "[2] The condition number is large, 5.69e+03. This might indicate that there are\n",
            "strong multicollinearity or other numerical problems.\n",
            "$$$잔차값, Residuals, 첫5행$$$\n",
            "model\n",
            "Mazda RX4           -1.583962\n",
            "Mazda RX4 Wag       -0.713366\n",
            "Datsun 710          -2.515315\n",
            "Hornet 4 Drive      -0.324442\n",
            "Hornet Sportabout    0.270806\n",
            "dtype: float64\n",
            "잔차값의 평균: -9.936496070395151e-15\n"
          ]
        },
        {
          "output_type": "display_data",
          "data": {
            "text/plain": [
              "<Figure size 1000x500 with 1 Axes>"
            ],
            "image/png": "[encoded data removed]"
          },
          "metadata": {}
        }
      ]
    },
    {
      "cell_type": "code",
      "source": [
        "import pandas as pd\n",
        "from sklearn.tree import DecisionTreeRegressor\n",
        "from sklearn.model_selection import train_test_split\n",
        "from sklearn.metrics import mean_squared_error\n",
        "from sklearn.metrics import mean_absolute_error\n",
        "from sklearn.tree import plot_tree\n",
        "import matplotlib.pyplot as plt\n",
        "data = pd.read_csv('/content/drive/MyDrive/Colab Notebooks/work/mtcars.csv', header=0, index_col=0)\n",
        "print(data.head())\n",
        "x = data[['disp','hp','wt','qsec']]\n",
        "y = data['mpg']\n",
        "trainx, testx, trainy, testy = train_test_split(x, y, test_size=0.3, random_state=55)\n",
        "model = DecisionTreeRegressor(max_depth=3, random_state=55)\n",
        "results = model.fit(trainx, trainy)\n",
        "print(model.score(trainx, trainy))"
      ],
      "metadata": {
        "colab": {
          "base_uri": "https://localhost:8080/"
        },
        "id": "iroeqdN6B0kk",
        "outputId": "eda9fea1-1a18-477c-a4c7-e1e40d309cdb"
      },
      "execution_count": 21,
      "outputs": [
        {
          "output_type": "stream",
          "name": "stdout",
          "text": [
            "                    mpg  cyl   disp   hp  drat     wt   qsec  vs  am  gear  \\\n",
            "model                                                                        \n",
            "Mazda RX4          21.0    6  160.0  110  3.90  2.620  16.46   0   1     4   \n",
            "Mazda RX4 Wag      21.0    6  160.0  110  3.90  2.875  17.02   0   1     4   \n",
            "Datsun 710         22.8    4  108.0   93  3.85  2.320  18.61   1   1     4   \n",
            "Hornet 4 Drive     21.4    6  258.0  110  3.08  3.215  19.44   1   0     3   \n",
            "Hornet Sportabout  18.7    8  360.0  175  3.15  3.440  17.02   0   0     3   \n",
            "\n",
            "                   carb  \n",
            "model                    \n",
            "Mazda RX4             4  \n",
            "Mazda RX4 Wag         4  \n",
            "Datsun 710            1  \n",
            "Hornet 4 Drive        1  \n",
            "Hornet Sportabout     2  \n",
            "0.9454044653052825\n"
          ]
        }
      ]
    },
    {
      "cell_type": "code",
      "source": [],
      "metadata": {
        "id": "cfSOE7tJOdJY"
      },
      "execution_count": null,
      "outputs": []
    }
  ]
}