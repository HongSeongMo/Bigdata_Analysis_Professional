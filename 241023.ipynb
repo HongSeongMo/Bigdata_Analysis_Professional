{
  "nbformat": 4,
  "nbformat_minor": 0,
  "metadata": {
    "colab": {
      "provenance": [],
      "mount_file_id": "14r3e9g67314uV27Qw_O1BurLuOUPBoVj",
      "authorship_tag": "ABX9TyPq61OmJs8dBMATFm1/y9AM",
      "include_colab_link": true
    },
    "kernelspec": {
      "name": "python3",
      "display_name": "Python 3"
    },
    "language_info": {
      "name": "python"
    }
  },
  "cells": [
    {
      "cell_type": "markdown",
      "metadata": {
        "id": "view-in-github",
        "colab_type": "text"
      },
      "source": [
        "<a href=\"https://colab.research.google.com/github/HongSeongMo/Bigdata_Analysis_Professional/blob/main/241023.ipynb\" target=\"_parent\"><img src=\"https://colab.research.google.com/assets/colab-badge.svg\" alt=\"Open In Colab\"/></a>"
      ]
    },
    {
      "cell_type": "markdown",
      "source": [],
      "metadata": {
        "id": "usHuyVnJw4Ja"
      }
    },
    {
      "cell_type": "markdown",
      "source": [
        "제5장 인공신경망"
      ],
      "metadata": {
        "id": "EUwpTs0Tw7u9"
      }
    },
    {
      "cell_type": "code",
      "execution_count": null,
      "metadata": {
        "id": "5YnikCUywz7P"
      },
      "outputs": [],
      "source": []
    }
  ]
}