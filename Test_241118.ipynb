{
  "nbformat": 4,
  "nbformat_minor": 0,
  "metadata": {
    "colab": {
      "provenance": [],
      "mount_file_id": "1zKVezhokqIygeWvTBpuNqV0xVMc0YPUk",
      "authorship_tag": "ABX9TyPNJbYPPUDBDr9wmkSXS6JG",
      "include_colab_link": true
    },
    "kernelspec": {
      "name": "python3",
      "display_name": "Python 3"
    },
    "language_info": {
      "name": "python"
    }
  },
  "cells": [
    {
      "cell_type": "markdown",
      "metadata": {
        "id": "view-in-github",
        "colab_type": "text"
      },
      "source": [
        "<a href=\"https://colab.research.google.com/github/HongSeongMo/Bigdata_Analysis_Professional/blob/main/Test_241118.ipynb\" target=\"_parent\"><img src=\"https://colab.research.google.com/assets/colab-badge.svg\" alt=\"Open In Colab\"/></a>"
      ]
    },
    {
      "cell_type": "code",
      "execution_count": 1,
      "metadata": {
        "colab": {
          "base_uri": "https://localhost:8080/"
        },
        "id": "Z-1Di9NaHJTI",
        "outputId": "279bb08d-d0dd-4f16-de21-f6b3eed59070"
      },
      "outputs": [
        {
          "output_type": "stream",
          "name": "stdout",
          "text": [
            "Mounted at /content/drive\n"
          ]
        }
      ],
      "source": [
        "from google.colab import drive\n",
        "drive.mount('/content/drive')"
      ]
    },
    {
      "cell_type": "code",
      "source": [
        "import pandas as pd\n",
        "air = pd.read_csv('/content/drive/MyDrive/Colab Notebooks/work/airquality.csv', index_col=0)"
      ],
      "metadata": {
        "id": "zK7nS0tYHZeF"
      },
      "execution_count": 3,
      "outputs": []
    },
    {
      "cell_type": "code",
      "source": [
        "df = air.sort_values(by='Solar.R', ascending=False)\n",
        "data = df.sample(frac=0.8).reset_index(drop=True)\n",
        "print(df.head())\n",
        "print(data.head())\n",
        "print(data.shape)\n",
        "median_before = data['Ozone'].median()\n",
        "print(median_before)\n",
        "meangap = data['Ozone'].mean()\n",
        "print(meangap)\n",
        "print(sum(data['Ozone'].isna()))\n",
        "data['Ozone'] = data['Ozone'].fillna(meangap)\n",
        "print(data.head())\n",
        "print(sum(data['Ozone'].isna()))\n",
        "median_after = data['Ozone'].median()\n",
        "print(median_after)\n",
        "print(median_before - median_after)"
      ],
      "metadata": {
        "colab": {
          "base_uri": "https://localhost:8080/"
        },
        "id": "jn9EMCozHwaM",
        "outputId": "0f14e845-9d8a-4c5a-87e9-b7e286555c1c"
      },
      "execution_count": 22,
      "outputs": [
        {
          "output_type": "stream",
          "name": "stdout",
          "text": [
            "    Ozone  Solar.R  Wind  Temp  Month  Day\n",
            "16   14.0    334.0  11.5    64      5   16\n",
            "45    NaN    332.0  13.8    80      6   14\n",
            "41   39.0    323.0  11.5    87      6   10\n",
            "46    NaN    322.0  11.5    79      6   15\n",
            "19   30.0    322.0  11.5    68      5   19\n",
            "   Ozone  Solar.R  Wind  Temp  Month  Day\n",
            "0    6.0     78.0  18.4    57      5   18\n",
            "1   61.0    285.0   6.3    84      7   18\n",
            "2    NaN     47.0  10.3    73      6   27\n",
            "3   18.0     65.0  13.2    58      5   15\n",
            "4  168.0    238.0   3.4    81      8   25\n",
            "(122, 6)\n",
            "31.0\n",
            "42.175824175824175\n",
            "31\n",
            "        Ozone  Solar.R  Wind  Temp  Month  Day\n",
            "0    6.000000     78.0  18.4    57      5   18\n",
            "1   61.000000    285.0   6.3    84      7   18\n",
            "2   42.175824     47.0  10.3    73      6   27\n",
            "3   18.000000     65.0  13.2    58      5   15\n",
            "4  168.000000    238.0   3.4    81      8   25\n",
            "0\n",
            "42.175824175824175\n",
            "-11.175824175824175\n"
          ]
        }
      ]
    },
    {
      "cell_type": "code",
      "source": [],
      "metadata": {
        "id": "n6_FFihqIKoW"
      },
      "execution_count": null,
      "outputs": []
    }
  ]
}