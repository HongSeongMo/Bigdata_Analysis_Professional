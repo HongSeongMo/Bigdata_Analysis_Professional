{
  "nbformat": 4,
  "nbformat_minor": 0,
  "metadata": {
    "colab": {
      "provenance": [],
      "mount_file_id": "1zKVezhokqIygeWvTBpuNqV0xVMc0YPUk",
      "authorship_tag": "ABX9TyOk2eWyPc0xgjB+Lu5LNVoQ",
      "include_colab_link": true
    },
    "kernelspec": {
      "name": "python3",
      "display_name": "Python 3"
    },
    "language_info": {
      "name": "python"
    }
  },
  "cells": [
    {
      "cell_type": "markdown",
      "metadata": {
        "id": "view-in-github",
        "colab_type": "text"
      },
      "source": [
        "<a href=\"https://colab.research.google.com/github/HongSeongMo/Bigdata_Analysis_Professional/blob/main/241117.ipynb\" target=\"_parent\"><img src=\"https://colab.research.google.com/assets/colab-badge.svg\" alt=\"Open In Colab\"/></a>"
      ]
    },
    {
      "cell_type": "code",
      "execution_count": 1,
      "metadata": {
        "colab": {
          "base_uri": "https://localhost:8080/"
        },
        "id": "Z-1Di9NaHJTI",
        "outputId": "279bb08d-d0dd-4f16-de21-f6b3eed59070"
      },
      "outputs": [
        {
          "output_type": "stream",
          "name": "stdout",
          "text": [
            "Mounted at /content/drive\n"
          ]
        }
      ],
      "source": [
        "from google.colab import drive\n",
        "drive.mount('/content/drive')"
      ]
    },
    {
      "cell_type": "code",
      "source": [
        "import pandas as pd\n",
        "air = pd.read_csv('/content/drive/MyDrive/Colab Notebooks/work/airquality.csv', index_col=0)"
      ],
      "metadata": {
        "id": "zK7nS0tYHZeF"
      },
      "execution_count": 12,
      "outputs": []
    },
    {
      "cell_type": "code",
      "source": [
        "df = air.sort_values(by='Solar.R', ascending=False)\n",
        "data ="
      ],
      "metadata": {
        "colab": {
          "base_uri": "https://localhost:8080/"
        },
        "id": "jn9EMCozHwaM",
        "outputId": "4ae62a8c-d57b-4045-b2fa-42ae8919397c"
      },
      "execution_count": 7,
      "outputs": [
        {
          "output_type": "stream",
          "name": "stdout",
          "text": [
            "<class 'pandas.core.frame.DataFrame'>\n",
            "Index: 153 entries, 16 to 98\n",
            "Data columns (total 6 columns):\n",
            " #   Column   Non-Null Count  Dtype  \n",
            "---  ------   --------------  -----  \n",
            " 0   Ozone    116 non-null    float64\n",
            " 1   Solar.R  146 non-null    float64\n",
            " 2   Wind     153 non-null    float64\n",
            " 3   Temp     153 non-null    int64  \n",
            " 4   Month    153 non-null    int64  \n",
            " 5   Day      153 non-null    int64  \n",
            "dtypes: float64(3), int64(3)\n",
            "memory usage: 8.4 KB\n"
          ]
        }
      ]
    },
    {
      "cell_type": "code",
      "source": [
        "data = df[:122]\n",
        "data.info()"
      ],
      "metadata": {
        "colab": {
          "base_uri": "https://localhost:8080/"
        },
        "id": "Yh9a-YakIAQV",
        "outputId": "0f4c3efb-d40b-4c95-d7db-e3232072da28"
      },
      "execution_count": 9,
      "outputs": [
        {
          "output_type": "stream",
          "name": "stdout",
          "text": [
            "<class 'pandas.core.frame.DataFrame'>\n",
            "Index: 122 entries, 16 to 18\n",
            "Data columns (total 6 columns):\n",
            " #   Column   Non-Null Count  Dtype  \n",
            "---  ------   --------------  -----  \n",
            " 0   Ozone    92 non-null     float64\n",
            " 1   Solar.R  122 non-null    float64\n",
            " 2   Wind     122 non-null    float64\n",
            " 3   Temp     122 non-null    int64  \n",
            " 4   Month    122 non-null    int64  \n",
            " 5   Day      122 non-null    int64  \n",
            "dtypes: float64(3), int64(3)\n",
            "memory usage: 6.7 KB\n"
          ]
        }
      ]
    },
    {
      "cell_type": "code",
      "source": [],
      "metadata": {
        "id": "n6_FFihqIKoW"
      },
      "execution_count": null,
      "outputs": []
    }
  ]
}