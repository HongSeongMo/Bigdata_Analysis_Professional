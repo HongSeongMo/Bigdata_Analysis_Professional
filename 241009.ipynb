{
  "nbformat": 4,
  "nbformat_minor": 0,
  "metadata": {
    "colab": {
      "provenance": [],
      "mount_file_id": "1uo6t84brJjYX6twMM-XzXPQqLgnqGHir",
      "authorship_tag": "ABX9TyOnyNnSM6FtOSqevJymCMfh",
      "include_colab_link": true
    },
    "kernelspec": {
      "name": "python3",
      "display_name": "Python 3"
    },
    "language_info": {
      "name": "python"
    }
  },
  "cells": [
    {
      "cell_type": "markdown",
      "metadata": {
        "id": "view-in-github",
        "colab_type": "text"
      },
      "source": [
        "<a href=\"https://colab.research.google.com/github/HongSeongMo/Bigdata_Analysis_Professional/blob/main/241009.ipynb\" target=\"_parent\"><img src=\"https://colab.research.google.com/assets/colab-badge.svg\" alt=\"Open In Colab\"/></a>"
      ]
    },
    {
      "cell_type": "code",
      "source": [
        "from google.colab import drive\n",
        "drive.mount('/content/drive')"
      ],
      "metadata": {
        "colab": {
          "base_uri": "https://localhost:8080/"
        },
        "id": "S4J26U9gfvzM",
        "outputId": "bb2b80b8-d2eb-4a8d-be84-dcc9b609d495"
      },
      "execution_count": 2,
      "outputs": [
        {
          "output_type": "stream",
          "name": "stdout",
          "text": [
            "Drive already mounted at /content/drive; to attempt to forcibly remount, call drive.mount(\"/content/drive\", force_remount=True).\n"
          ]
        }
      ]
    },
    {
      "cell_type": "code",
      "execution_count": 5,
      "metadata": {
        "colab": {
          "base_uri": "https://localhost:8080/"
        },
        "id": "mllG-FtIfAJS",
        "outputId": "833e693c-7953-4e2a-955d-3e09bdbe4497"
      },
      "outputs": [
        {
          "output_type": "stream",
          "name": "stdout",
          "text": [
            "-----concatenate----------\n"
          ]
        }
      ],
      "source": [
        "import numpy as np\n",
        "a = np.array([80,82,90,89])\n",
        "b = np.array([[27,19,78],[99,22,35]])\n",
        "c = np.array([[70,85,75],[45,89,67]])\n",
        "print('-----concatenate----------')\n"
      ]
    },
    {
      "cell_type": "code",
      "source": [
        "con1 = np.concatenate((a,[75,66,88]))\n",
        "print(con1)"
      ],
      "metadata": {
        "colab": {
          "base_uri": "https://localhost:8080/"
        },
        "id": "Vim5PHprgxCm",
        "outputId": "a7062c36-f990-4ab9-8b2b-5b30c274124c"
      },
      "execution_count": 7,
      "outputs": [
        {
          "output_type": "stream",
          "name": "stdout",
          "text": [
            "[80 82 90 89 75 66 88]\n"
          ]
        }
      ]
    },
    {
      "cell_type": "code",
      "source": [
        "con2 = np.concatenate((b,c))\n",
        "print(con2)"
      ],
      "metadata": {
        "colab": {
          "base_uri": "https://localhost:8080/"
        },
        "id": "7coMnwOChg0B",
        "outputId": "32b95711-b5f4-4b98-9846-38b74a3cd170"
      },
      "execution_count": 8,
      "outputs": [
        {
          "output_type": "stream",
          "name": "stdout",
          "text": [
            "[[27 19 78]\n",
            " [99 22 35]\n",
            " [70 85 75]\n",
            " [45 89 67]]\n"
          ]
        }
      ]
    },
    {
      "cell_type": "code",
      "source": [
        "con3 = np.concatenate((b,c),axis=0)\n",
        "print(con3)"
      ],
      "metadata": {
        "colab": {
          "base_uri": "https://localhost:8080/"
        },
        "id": "ycGFk2nChqVO",
        "outputId": "4ff28da1-cce5-4062-df6a-70569187ba1a"
      },
      "execution_count": 9,
      "outputs": [
        {
          "output_type": "stream",
          "name": "stdout",
          "text": [
            "[[27 19 78]\n",
            " [99 22 35]\n",
            " [70 85 75]\n",
            " [45 89 67]]\n"
          ]
        }
      ]
    },
    {
      "cell_type": "code",
      "source": [
        "con4 = np.concatenate((b,c),axis=1)\n",
        "print(con4)"
      ],
      "metadata": {
        "colab": {
          "base_uri": "https://localhost:8080/"
        },
        "id": "jBQoS4VFhy2f",
        "outputId": "b7ee7e0e-9955-4e41-b464-a6b9212b4f0f"
      },
      "execution_count": 10,
      "outputs": [
        {
          "output_type": "stream",
          "name": "stdout",
          "text": [
            "[[27 19 78 70 85 75]\n",
            " [99 22 35 45 89 67]]\n"
          ]
        }
      ]
    },
    {
      "cell_type": "code",
      "source": [
        "stack1 = np.stack((b,c), axis=0)\n",
        "print(stack1)"
      ],
      "metadata": {
        "colab": {
          "base_uri": "https://localhost:8080/"
        },
        "id": "YsZYsi8KiBiL",
        "outputId": "193deff4-a656-43a5-e8cd-f2e8601f22bf"
      },
      "execution_count": 11,
      "outputs": [
        {
          "output_type": "stream",
          "name": "stdout",
          "text": [
            "[[[27 19 78]\n",
            "  [99 22 35]]\n",
            "\n",
            " [[70 85 75]\n",
            "  [45 89 67]]]\n"
          ]
        }
      ]
    },
    {
      "cell_type": "code",
      "source": [
        "stack2 = np.stack((b,c), axis=1)\n",
        "print(stack2)"
      ],
      "metadata": {
        "colab": {
          "base_uri": "https://localhost:8080/"
        },
        "id": "NvtCJ4cUia6a",
        "outputId": "0610556b-9c00-434f-8c9d-93b1850b9672"
      },
      "execution_count": 12,
      "outputs": [
        {
          "output_type": "stream",
          "name": "stdout",
          "text": [
            "[[[27 19 78]\n",
            "  [70 85 75]]\n",
            "\n",
            " [[99 22 35]\n",
            "  [45 89 67]]]\n"
          ]
        }
      ]
    },
    {
      "cell_type": "code",
      "source": [
        "appd1 = np.append(b,c)\n",
        "print(appd1)"
      ],
      "metadata": {
        "colab": {
          "base_uri": "https://localhost:8080/"
        },
        "id": "JbGu19Dtihjf",
        "outputId": "a85363f1-aad7-4710-9ef2-03ead5ed533f"
      },
      "execution_count": 14,
      "outputs": [
        {
          "output_type": "stream",
          "name": "stdout",
          "text": [
            "[27 19 78 99 22 35 70 85 75 45 89 67]\n"
          ]
        }
      ]
    },
    {
      "cell_type": "code",
      "source": [
        "appd2 = np.append(b,c,axis=0)\n",
        "print(appd2)"
      ],
      "metadata": {
        "colab": {
          "base_uri": "https://localhost:8080/"
        },
        "id": "WniNpWzPivav",
        "outputId": "dbcbf28f-8bc1-4ce3-c7ee-56d63c99b1d7"
      },
      "execution_count": 15,
      "outputs": [
        {
          "output_type": "stream",
          "name": "stdout",
          "text": [
            "[[27 19 78]\n",
            " [99 22 35]\n",
            " [70 85 75]\n",
            " [45 89 67]]\n"
          ]
        }
      ]
    },
    {
      "cell_type": "code",
      "source": [
        "appd3 = np.append(b,c,axis=1)\n",
        "print(appd3)"
      ],
      "metadata": {
        "colab": {
          "base_uri": "https://localhost:8080/"
        },
        "id": "-LW_y5Bxi6lH",
        "outputId": "05f036a7-1578-4b56-a788-acf50b66afb9"
      },
      "execution_count": 16,
      "outputs": [
        {
          "output_type": "stream",
          "name": "stdout",
          "text": [
            "[[27 19 78 70 85 75]\n",
            " [99 22 35 45 89 67]]\n"
          ]
        }
      ]
    },
    {
      "cell_type": "code",
      "source": [
        "spt1 = np.split(appd3,2, axis=0)\n",
        "print(spt1)"
      ],
      "metadata": {
        "colab": {
          "base_uri": "https://localhost:8080/"
        },
        "id": "Zla9ITmijD0A",
        "outputId": "9a446873-c177-4999-d31b-3b1960739050"
      },
      "execution_count": 17,
      "outputs": [
        {
          "output_type": "stream",
          "name": "stdout",
          "text": [
            "[array([[27, 19, 78, 70, 85, 75]]), array([[99, 22, 35, 45, 89, 67]])]\n"
          ]
        }
      ]
    },
    {
      "cell_type": "code",
      "source": [
        "spt2 = np.split(appd3,2, axis=1)\n",
        "print(spt2)"
      ],
      "metadata": {
        "colab": {
          "base_uri": "https://localhost:8080/"
        },
        "id": "9LapEe1ijYTF",
        "outputId": "e708c1b4-df32-435a-bf59-1983b00812f2"
      },
      "execution_count": 18,
      "outputs": [
        {
          "output_type": "stream",
          "name": "stdout",
          "text": [
            "[array([[27, 19, 78],\n",
            "       [99, 22, 35]]), array([[70, 85, 75],\n",
            "       [45, 89, 67]])]\n"
          ]
        }
      ]
    },
    {
      "cell_type": "code",
      "source": [
        "arr1 = spt2[0]\n",
        "arr1"
      ],
      "metadata": {
        "colab": {
          "base_uri": "https://localhost:8080/"
        },
        "id": "fgKaxLEYjf1u",
        "outputId": "695674f3-5f52-40d3-9e39-733695c13c82"
      },
      "execution_count": 20,
      "outputs": [
        {
          "output_type": "execute_result",
          "data": {
            "text/plain": [
              "array([[27, 19, 78],\n",
              "       [99, 22, 35]])"
            ]
          },
          "metadata": {},
          "execution_count": 20
        }
      ]
    },
    {
      "cell_type": "code",
      "source": [
        "arr2 = spt2[1]\n",
        "arr2"
      ],
      "metadata": {
        "colab": {
          "base_uri": "https://localhost:8080/"
        },
        "id": "9fC_CNT3j5XQ",
        "outputId": "72eaf75e-299b-443b-9536-0ae9e043cea5"
      },
      "execution_count": 22,
      "outputs": [
        {
          "output_type": "execute_result",
          "data": {
            "text/plain": [
              "array([[70, 85, 75],\n",
              "       [45, 89, 67]])"
            ]
          },
          "metadata": {},
          "execution_count": 22
        }
      ]
    },
    {
      "cell_type": "code",
      "source": [],
      "metadata": {
        "id": "nds3_7jukJcX"
      },
      "execution_count": null,
      "outputs": []
    }
  ]
}