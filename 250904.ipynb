{
  "nbformat": 4,
  "nbformat_minor": 0,
  "metadata": {
    "colab": {
      "provenance": [],
      "authorship_tag": "ABX9TyMbe8qASweFRLw8sxb4+5oo",
      "include_colab_link": true
    },
    "kernelspec": {
      "name": "python3",
      "display_name": "Python 3"
    },
    "language_info": {
      "name": "python"
    }
  },
  "cells": [
    {
      "cell_type": "markdown",
      "metadata": {
        "id": "view-in-github",
        "colab_type": "text"
      },
      "source": [
        "<a href=\"https://colab.research.google.com/github/HongSeongMo/Bigdata_Analysis_Professional/blob/main/250904.ipynb\" target=\"_parent\"><img src=\"https://colab.research.google.com/assets/colab-badge.svg\" alt=\"Open In Colab\"/></a>"
      ]
    },
    {
      "cell_type": "code",
      "execution_count": 1,
      "metadata": {
        "colab": {
          "base_uri": "https://localhost:8080/"
        },
        "id": "4Brsk7zwqfAX",
        "outputId": "33a2dbec-199c-4608-8ba3-87cbb8384779"
      },
      "outputs": [
        {
          "output_type": "stream",
          "name": "stdout",
          "text": [
            "   year  gender  지역코드    금액1    금액2\n",
            "0  2018       0   143  70713  43210\n",
            "1  2019       0   183  40306  39663\n",
            "2  2017       0   129  26646  41631\n",
            "3  2019       0   161  56843  12455\n",
            "4  2019       0   174  26371   9014\n"
          ]
        }
      ],
      "source": [
        "import pandas as pd\n",
        "import numpy as np\n",
        "pd.set_option('display.max_columns', None)\n",
        "df = pd.read_csv('https://raw.githubusercontent.com/YoungjinBD/data/main/exam/9_1_1.csv')\n",
        "print(df.head())"
      ]
    },
    {
      "cell_type": "code",
      "source": [
        "df['총대출액'] = df['금액1'] + df['금액2']\n",
        "print(df.head())"
      ],
      "metadata": {
        "colab": {
          "base_uri": "https://localhost:8080/"
        },
        "id": "UF410phEA6vO",
        "outputId": "4c7f03ed-2075-4c9c-9a3b-d23a8feb51c1"
      },
      "execution_count": 2,
      "outputs": [
        {
          "output_type": "stream",
          "name": "stdout",
          "text": [
            "   year  gender  지역코드    금액1    금액2    총대출액\n",
            "0  2018       0   143  70713  43210  113923\n",
            "1  2019       0   183  40306  39663   79969\n",
            "2  2017       0   129  26646  41631   68277\n",
            "3  2019       0   161  56843  12455   69298\n",
            "4  2019       0   174  26371   9014   35385\n"
          ]
        }
      ]
    },
    {
      "cell_type": "code",
      "source": [
        "dfgender = df.groupby(['year','gender','지역코드'])['총대출액'].sum().reset_index()\n",
        "print(dfgender.head())"
      ],
      "metadata": {
        "colab": {
          "base_uri": "https://localhost:8080/"
        },
        "id": "5pQRd791BuHH",
        "outputId": "28becff0-b5f3-45df-be2b-9649603914aa"
      },
      "execution_count": 3,
      "outputs": [
        {
          "output_type": "stream",
          "name": "stdout",
          "text": [
            "   year  gender  지역코드    총대출액\n",
            "0  2015       0   131   37881\n",
            "1  2015       0   151   32197\n",
            "2  2015       0   195  161121\n",
            "3  2015       0   197   93317\n",
            "4  2015       1   101   87088\n"
          ]
        }
      ]
    },
    {
      "cell_type": "code",
      "source": [
        "df_pivot = dfgender.pivot_table(index=['year','지역코드'],columns='gender',values='총대출액', fill_value=0)\n",
        "print(df_pivot.head())"
      ],
      "metadata": {
        "colab": {
          "base_uri": "https://localhost:8080/"
        },
        "id": "0mjK4XEeZBvj",
        "outputId": "a6ebdb4f-08f0-43ac-9da7-71ad9bff0dd5"
      },
      "execution_count": 4,
      "outputs": [
        {
          "output_type": "stream",
          "name": "stdout",
          "text": [
            "gender           0         1\n",
            "year 지역코드                   \n",
            "2015 101       0.0   87088.0\n",
            "     118       0.0  100609.0\n",
            "     130       0.0   41599.0\n",
            "     131   37881.0       0.0\n",
            "     150       0.0   56775.0\n"
          ]
        }
      ]
    },
    {
      "cell_type": "code",
      "source": [
        "df_pivot['abs_diff'] = abs(df_pivot[0] - df_pivot[1])\n",
        "print('지역코드 :', df_pivot.index[0][1])"
      ],
      "metadata": {
        "colab": {
          "base_uri": "https://localhost:8080/"
        },
        "id": "lP9uWmGSZ0A4",
        "outputId": "2299fd0e-c39e-43ae-ce98-2d5ae060dce3"
      },
      "execution_count": 5,
      "outputs": [
        {
          "output_type": "stream",
          "name": "stdout",
          "text": [
            "지역코드 : 101\n"
          ]
        }
      ]
    },
    {
      "cell_type": "code",
      "source": [
        "import numpy as np\n",
        "\n",
        "arr1 = np.arange(10)\n",
        "print(arr1)"
      ],
      "metadata": {
        "id": "Wu8Fs4PraqLk",
        "colab": {
          "base_uri": "https://localhost:8080/"
        },
        "outputId": "03d952ed-8a71-441f-bb3b-0833b8074d0b"
      },
      "execution_count": 6,
      "outputs": [
        {
          "output_type": "stream",
          "name": "stdout",
          "text": [
            "[0 1 2 3 4 5 6 7 8 9]\n"
          ]
        }
      ]
    },
    {
      "cell_type": "code",
      "source": [
        "arr2 = np.arange(0,2,0.5)\n",
        "print(arr2)"
      ],
      "metadata": {
        "id": "avTObDnyyF8j",
        "outputId": "c488b4ce-bfbf-41a8-c3d2-afbd86d1f3c4",
        "colab": {
          "base_uri": "https://localhost:8080/"
        }
      },
      "execution_count": 7,
      "outputs": [
        {
          "output_type": "stream",
          "name": "stdout",
          "text": [
            "[0.  0.5 1.  1.5]\n"
          ]
        }
      ]
    },
    {
      "cell_type": "code",
      "source": [],
      "metadata": {
        "id": "Cq981CRyyRYb"
      },
      "execution_count": null,
      "outputs": []
    }
  ]
}