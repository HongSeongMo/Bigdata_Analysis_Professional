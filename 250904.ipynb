{
  "nbformat": 4,
  "nbformat_minor": 0,
  "metadata": {
    "colab": {
      "provenance": [],
      "authorship_tag": "ABX9TyN6I2uDll3ielFlZiqtcmZ9",
      "include_colab_link": true
    },
    "kernelspec": {
      "name": "python3",
      "display_name": "Python 3"
    },
    "language_info": {
      "name": "python"
    }
  },
  "cells": [
    {
      "cell_type": "markdown",
      "metadata": {
        "id": "view-in-github",
        "colab_type": "text"
      },
      "source": [
        "<a href=\"https://colab.research.google.com/github/HongSeongMo/Bigdata_Analysis_Professional/blob/main/250904.ipynb\" target=\"_parent\"><img src=\"https://colab.research.google.com/assets/colab-badge.svg\" alt=\"Open In Colab\"/></a>"
      ]
    },
    {
      "cell_type": "code",
      "execution_count": 3,
      "metadata": {
        "colab": {
          "base_uri": "https://localhost:8080/"
        },
        "id": "4Brsk7zwqfAX",
        "outputId": "302f5cbc-af0a-4987-d6be-c62c41a184e7"
      },
      "outputs": [
        {
          "output_type": "stream",
          "name": "stdout",
          "text": [
            "   year  gender  지역코드    금액1    금액2\n",
            "0  2018       0   143  70713  43210\n",
            "1  2019       0   183  40306  39663\n",
            "2  2017       0   129  26646  41631\n",
            "3  2019       0   161  56843  12455\n",
            "4  2019       0   174  26371   9014\n"
          ]
        }
      ],
      "source": [
        "import pandas as pd\n",
        "import numpy as np\n",
        "pd.set_option('display.max_columns', None)\n",
        "df = pd.read_csv('https://raw.githubusercontent.com/YoungjinBD/data/main/exam/9_1_1.csv')\n",
        "print(df.head())"
      ]
    },
    {
      "cell_type": "code",
      "source": [
        "df['총대출액'] = df['금액1'] + df['금액2']\n",
        "print(df.head())"
      ],
      "metadata": {
        "colab": {
          "base_uri": "https://localhost:8080/"
        },
        "id": "UF410phEA6vO",
        "outputId": "1274a392-beb2-4646-f662-cd4a714bdff7"
      },
      "execution_count": 4,
      "outputs": [
        {
          "output_type": "stream",
          "name": "stdout",
          "text": [
            "   year  gender  지역코드    금액1    금액2    총대출액\n",
            "0  2018       0   143  70713  43210  113923\n",
            "1  2019       0   183  40306  39663   79969\n",
            "2  2017       0   129  26646  41631   68277\n",
            "3  2019       0   161  56843  12455   69298\n",
            "4  2019       0   174  26371   9014   35385\n"
          ]
        }
      ]
    },
    {
      "cell_type": "code",
      "source": [
        "dfgender = df.groupby(['year','gender','지역코드'])['총대출액'].sum().reset_index()\n",
        "print(dfgender.head())"
      ],
      "metadata": {
        "colab": {
          "base_uri": "https://localhost:8080/"
        },
        "id": "5pQRd791BuHH",
        "outputId": "82ae531a-9f29-4bfa-e7eb-70d3ecaa8ed5"
      },
      "execution_count": 5,
      "outputs": [
        {
          "output_type": "stream",
          "name": "stdout",
          "text": [
            "   year  gender  지역코드    총대출액\n",
            "0  2015       0   131   37881\n",
            "1  2015       0   151   32197\n",
            "2  2015       0   195  161121\n",
            "3  2015       0   197   93317\n",
            "4  2015       1   101   87088\n"
          ]
        }
      ]
    },
    {
      "cell_type": "code",
      "source": [
        "df_pivot = dfgender.pivot_table(index=['year','지역코드'],columns='gender',values='총대출액', fill_value=0)\n",
        "print(df_pivot.head())"
      ],
      "metadata": {
        "colab": {
          "base_uri": "https://localhost:8080/"
        },
        "id": "0mjK4XEeZBvj",
        "outputId": "6c67e58b-45f0-43fd-999f-620e6d72a3fe"
      },
      "execution_count": 6,
      "outputs": [
        {
          "output_type": "stream",
          "name": "stdout",
          "text": [
            "gender           0         1\n",
            "year 지역코드                   \n",
            "2015 101       0.0   87088.0\n",
            "     118       0.0  100609.0\n",
            "     130       0.0   41599.0\n",
            "     131   37881.0       0.0\n",
            "     150       0.0   56775.0\n"
          ]
        }
      ]
    },
    {
      "cell_type": "code",
      "source": [
        "df_pivot['abs_diff'] = abs(df_pivot[0] - df_pivot[1])\n",
        "print('지역코드 :', df_pivot.index[0][1])"
      ],
      "metadata": {
        "colab": {
          "base_uri": "https://localhost:8080/"
        },
        "id": "lP9uWmGSZ0A4",
        "outputId": "62249240-35d7-4524-c819-1731dfb146f9"
      },
      "execution_count": 8,
      "outputs": [
        {
          "output_type": "stream",
          "name": "stdout",
          "text": [
            "지역코드 : 101\n"
          ]
        }
      ]
    },
    {
      "cell_type": "code",
      "source": [],
      "metadata": {
        "id": "Wu8Fs4PraqLk"
      },
      "execution_count": null,
      "outputs": []
    }
  ]
}