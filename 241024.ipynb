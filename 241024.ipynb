{
  "nbformat": 4,
  "nbformat_minor": 0,
  "metadata": {
    "colab": {
      "provenance": [],
      "mount_file_id": "1FjcZ9iIr5frEi2-ObOEUqXUllD-X7Mfj",
      "authorship_tag": "ABX9TyNmxX7vm4Nc0BOReX6QIGhV",
      "include_colab_link": true
    },
    "kernelspec": {
      "name": "python3",
      "display_name": "Python 3"
    },
    "language_info": {
      "name": "python"
    }
  },
  "cells": [
    {
      "cell_type": "markdown",
      "metadata": {
        "id": "view-in-github",
        "colab_type": "text"
      },
      "source": [
        "<a href=\"https://colab.research.google.com/github/HongSeongMo/Bigdata_Analysis_Professional/blob/main/241024.ipynb\" target=\"_parent\"><img src=\"https://colab.research.google.com/assets/colab-badge.svg\" alt=\"Open In Colab\"/></a>"
      ]
    },
    {
      "cell_type": "markdown",
      "source": [
        "제6장 서포트벡터머신"
      ],
      "metadata": {
        "id": "Xstmmth1Dhcr"
      }
    },
    {
      "cell_type": "code",
      "source": [
        "from google.colab import drive\n",
        "drive.mount('/content/drive')"
      ],
      "metadata": {
        "colab": {
          "base_uri": "https://localhost:8080/"
        },
        "id": "lwVdaB5eGwjC",
        "outputId": "dae891a9-fd24-4141-bd90-96d18d8409a2"
      },
      "execution_count": 1,
      "outputs": [
        {
          "output_type": "stream",
          "name": "stdout",
          "text": [
            "Mounted at /content/drive\n"
          ]
        }
      ]
    },
    {
      "cell_type": "code",
      "execution_count": 2,
      "metadata": {
        "colab": {
          "base_uri": "https://localhost:8080/"
        },
        "id": "lha4RjHcCnYm",
        "outputId": "30e8e665-85bb-4d58-b722-8115b7a02dc7"
      },
      "outputs": [
        {
          "output_type": "stream",
          "name": "stdout",
          "text": [
            "0.9777777777777777\n"
          ]
        }
      ],
      "source": [
        "from sklearn.datasets import load_iris\n",
        "import pandas as pd\n",
        "import numpy as np\n",
        "from sklearn.preprocessing import StandardScaler\n",
        "from sklearn.svm import SVC\n",
        "from sklearn.model_selection import train_test_split\n",
        "from sklearn.metrics import classification_report, confusion_matrix\n",
        "from sklearn.metrics import accuracy_score\n",
        "import matplotlib.pyplot as plt\n",
        "iris = load_iris()\n",
        "x = iris.data\n",
        "y = iris.target\n",
        "trainx, testx, trainy, testy = train_test_split(x, y, test_size=0.3, random_state=42)\n",
        "scaler = StandardScaler()\n",
        "xtrainscaled = scaler.fit_transform(trainx)\n",
        "xtestscaled = scaler.transform(testx)\n",
        "\n",
        "model = SVC(kernel='linear', C=10, gamma=0.1, random_state=42)\n",
        "model.fit(xtrainscaled, trainy)\n",
        "ypred = model.predict(xtestscaled)\n",
        "accuracy = accuracy_score(testy, ypred)\n",
        "print(accuracy)"
      ]
    },
    {
      "cell_type": "code",
      "source": [],
      "metadata": {
        "id": "cktvVBHzQs-S"
      },
      "execution_count": null,
      "outputs": []
    }
  ]
}